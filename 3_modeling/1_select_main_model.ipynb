{
 "cells": [
  {
   "cell_type": "markdown",
   "metadata": {},
   "source": [
    "## 모델생성\n",
    "\n",
    "- 사용할 분류모델 종류\n",
    "    - Logistic Regression\n",
    "    - Support Vector Machine (SVM)\n",
    "    - Random Forest\n",
    "    - Gradient Boosting Tree (GBT)-\n",
    "    - AdaBoost\n",
    "    - LightBoost\n",
    "    - XGBoost\n",
    "    - ExtraTreesClassifier"
   ]
  },
  {
   "cell_type": "code",
   "execution_count": null,
   "metadata": {},
   "outputs": [],
   "source": [
    "# load data\n",
    "import pandas as pd\n",
    "data=pd.read_csv('../data/preprocessed_data/weighted_data.csv', encoding='cp949', index_col=0)\n",
    "target=pd.read_csv('../data/preprocessed_data/y_data.csv', encoding='cp949', index_col=0)"
   ]
  },
  {
   "cell_type": "code",
   "execution_count": null,
   "metadata": {},
   "outputs": [],
   "source": [
    "# import models\n",
    "\n",
    "from sklearn.linear_model import LogisticRegression\n",
    "from sklearn.svm import SVC\n",
    "from sklearn.ensemble import RandomForestClassifier, GradientBoostingClassifier, AdaBoostClassifier, ExtraTreesClassifier\n",
    "from xgboost import XGBClassifier\n",
    "\n",
    "models_li = [LogisticRegression(solver='saga'), SVC(), RandomForestClassifier(), GradientBoostingClassifier(), AdaBoostClassifier(), ExtraTreesClassifier(), XGBClassifier()]"
   ]
  },
  {
   "cell_type": "code",
   "execution_count": null,
   "metadata": {},
   "outputs": [],
   "source": [
    "import numpy as np"
   ]
  },
  {
   "cell_type": "code",
   "execution_count": null,
   "metadata": {},
   "outputs": [],
   "source": [
    "import warnings\n",
    "warnings.filterwarnings(action='ignore')"
   ]
  },
  {
   "cell_type": "code",
   "execution_count": null,
   "metadata": {},
   "outputs": [],
   "source": [
    "from sklearn.preprocessing import StandardScaler\n",
    "ssc = StandardScaler()\n",
    "data_ssc=ssc.fit_transform(data)"
   ]
  },
  {
   "cell_type": "code",
   "execution_count": null,
   "metadata": {},
   "outputs": [],
   "source": [
    "from sklearn.model_selection import cross_val_score, train_test_split, RepeatedStratifiedKFold\n",
    "rskfold = RepeatedStratifiedKFold(n_splits=3, n_repeats=5)\n",
    "\n",
    "score_total=list()\n",
    "for i in range(10):\n",
    "    temp_list=list()\n",
    "    for model in models_li:\n",
    "        result = cross_val_score(model,\n",
    "                                 data_ssc,\n",
    "                                 target[f'{i+1}일 뒤 종가'],\n",
    "                                 cv=rskfold)\n",
    "        print(str(model).split('(')[0])\n",
    "        print(f'{i+1}일 뒤 종가 : {round(np.mean(result),3)} \\n')\n",
    "        temp_list.append(round(np.mean(result),3))\n",
    "    score_total.append(temp_list)"
   ]
  },
  {
   "cell_type": "code",
   "execution_count": null,
   "metadata": {},
   "outputs": [],
   "source": [
    "# plot \n",
    "import matplotlib.pyplot as plt\n",
    "plt.rc('font',family='AppleGothic')\n",
    "df=pd.DataFrame(score_total,columns=[str(i).split('(')[0] for i in models_li],index=[f'{i}일 뒤 종가 예측' for i in range(1,11)])\n",
    "df.plot(kind='bar',stacked=True,figsize=(14,7))\n",
    "plt.xticks(rotation=45)\n",
    "plt.tight_layout()\n",
    "plt.show()"
   ]
  },
  {
   "cell_type": "code",
   "execution_count": null,
   "metadata": {},
   "outputs": [],
   "source": [
    "df.plot(figsize=(14,7),linewidth=10,alpha=0.9,linestyle='-')\n",
    "plt.xticks(rotation=15,fontsize=15)\n",
    "plt.title('모델별 일자별 종가 예측 결과값',fontsize=20)\n",
    "plt.legend(fontsize=10,loc=2)\n",
    "plt.tight_layout()\n",
    "plt.show()"
   ]
  },
  {
   "cell_type": "code",
   "execution_count": null,
   "metadata": {},
   "outputs": [],
   "source": []
  }
 ],
 "metadata": {
  "kernelspec": {
   "display_name": "Python 3.10.6 ('crawling')",
   "language": "python",
   "name": "python3"
  },
  "language_info": {
   "codemirror_mode": {
    "name": "ipython",
    "version": 3
   },
   "file_extension": ".py",
   "mimetype": "text/x-python",
   "name": "python",
   "nbconvert_exporter": "python",
   "pygments_lexer": "ipython3",
   "version": "3.10.6"
  },
  "orig_nbformat": 4,
  "vscode": {
   "interpreter": {
    "hash": "10621530bc52bc3dcaea48e2b7ef028942e35d2e6e9c9234a88fefd069caf90f"
   }
  }
 },
 "nbformat": 4,
 "nbformat_minor": 2
}
