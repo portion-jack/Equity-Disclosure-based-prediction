{
  "cells": [
    {
      "cell_type": "code",
      "execution_count": null,
      "metadata": {
        "colab": {
          "base_uri": "https://localhost:8080/"
        },
        "id": "uNPLfeeo5rDr",
        "outputId": "a9ee80b7-dc3b-4d6c-fc64-aeeed27da5e4"
      },
      "outputs": [],
      "source": [
        "!pip install optuna"
      ]
    },
    {
      "cell_type": "code",
      "execution_count": null,
      "metadata": {
        "colab": {
          "base_uri": "https://localhost:8080/"
        },
        "id": "qr5AXXu_5dVs",
        "outputId": "ffe40c8b-0925-4cc1-f1d2-51d85dab415b"
      },
      "outputs": [],
      "source": [
        "from google.colab import drive\n",
        "drive.mount('/content/drive')"
      ]
    },
    {
      "cell_type": "code",
      "execution_count": null,
      "metadata": {
        "id": "wve7pqoW5ZRV"
      },
      "outputs": [],
      "source": [
        "# load data\n",
        "import pandas as pd\n",
        "data=pd.read_csv('/content/drive/MyDrive/data/weighted_data.csv', encoding='cp949', index_col=0)\n",
        "target=pd.read_csv('/content/drive/MyDrive/data/y_data.csv', encoding='cp949', index_col=0)"
      ]
    },
    {
      "cell_type": "code",
      "execution_count": null,
      "metadata": {
        "id": "C56b4Cvf5ZRY"
      },
      "outputs": [],
      "source": [
        "# import models\n",
        "from sklearn.ensemble import RandomForestClassifier, GradientBoostingClassifier, ExtraTreesClassifier\n",
        "from xgboost import XGBClassifier\n",
        "\n",
        "models_li = [RandomForestClassifier(), GradientBoostingClassifier(), ExtraTreesClassifier(), XGBClassifier()]"
      ]
    },
    {
      "cell_type": "code",
      "execution_count": null,
      "metadata": {
        "id": "EX8G4S2A5ZRZ"
      },
      "outputs": [],
      "source": [
        "# standard_scaling\n",
        "from sklearn.preprocessing import StandardScaler\n",
        "ssc = StandardScaler()\n",
        "data_ssc=ssc.fit_transform(data)"
      ]
    },
    {
      "cell_type": "code",
      "execution_count": null,
      "metadata": {
        "colab": {
          "base_uri": "https://localhost:8080/"
        },
        "id": "7hTOqv7K5ZRa",
        "outputId": "51e9ec0c-1830-4f11-f4c5-0df9d6d73689"
      },
      "outputs": [],
      "source": [
        "RandomForestClassifier().get_params()"
      ]
    },
    {
      "cell_type": "code",
      "execution_count": null,
      "metadata": {
        "id": "-93taIKH5ZRa"
      },
      "outputs": [],
      "source": [
        "import numpy as np\n",
        "from sklearn.metrics import accuracy_score\n",
        "from sklearn.model_selection import cross_val_score,KFold\n",
        "kfold = KFold(n_splits=3,random_state=42,shuffle=True)"
      ]
    },
    {
      "cell_type": "code",
      "execution_count": null,
      "metadata": {
        "id": "mdD8d5Iu9xCb"
      },
      "outputs": [],
      "source": []
    },
    {
      "cell_type": "code",
      "execution_count": null,
      "metadata": {
        "colab": {
          "base_uri": "https://localhost:8080/"
        },
        "id": "dvBIK8yq5ZRb",
        "outputId": "721e3d3d-7bbf-4a55-8b1a-486fb9e24df1"
      },
      "outputs": [],
      "source": [
        "# RandomForestClassifier_parameter_tuning\n",
        "# based on optuna\n",
        "\n",
        "import optuna\n",
        "\n",
        "def rfc_object(trial):\n",
        "    prms={\n",
        "    'bootstrap': trial.suggest_categorical('bootstrap',[True, False]),\n",
        "    'max_depth': trial.suggest_int('max_depth',10,100),\n",
        "    'min_samples_leaf': trial.suggest_int('min_samples_leaf',1,5),\n",
        "    'min_samples_split': trial.suggest_int('min_samples_split',2,10),\n",
        "    'n_estimators': trial.suggest_int('n_estimators',200,2000,step=200)\n",
        "    }\n",
        "    model =RandomForestClassifier(**prms)\n",
        "    result = cross_val_score(\n",
        "        model,\n",
        "        data_ssc,\n",
        "        target['9일 뒤 종가'],\n",
        "        cv=kfold\n",
        "    )\n",
        "    return np.mean(result)\n",
        "\n",
        "study = optuna.create_study(direction=\"maximize\")\n",
        "study.optimize(rfc_object,n_trials=20)"
      ]
    },
    {
      "cell_type": "code",
      "execution_count": null,
      "metadata": {
        "colab": {
          "base_uri": "https://localhost:8080/"
        },
        "id": "L2YL7Yd-5ZRb",
        "outputId": "b999a9a2-407c-488a-bd1e-a1e1b79a828f"
      },
      "outputs": [],
      "source": [
        "rfc_best_prms=study.best_params\n",
        "rfc_best_prms"
      ]
    },
    {
      "cell_type": "code",
      "execution_count": null,
      "metadata": {
        "id": "hOvaz-nNBifs"
      },
      "outputs": [],
      "source": [
        "rfc=RandomForestClassifier(**rfc_best_prms)"
      ]
    },
    {
      "cell_type": "code",
      "execution_count": null,
      "metadata": {
        "colab": {
          "base_uri": "https://localhost:8080/"
        },
        "id": "tbQLqYFHBngq",
        "outputId": "70cec0b7-fa46-4ed0-af7b-05a61977526f"
      },
      "outputs": [],
      "source": [
        "rfc.get_params()"
      ]
    },
    {
      "cell_type": "code",
      "execution_count": null,
      "metadata": {
        "colab": {
          "base_uri": "https://localhost:8080/"
        },
        "id": "mRioOWRu5ZRc",
        "outputId": "1d3e88b5-6cac-4c2e-f762-7b80e5417acb"
      },
      "outputs": [],
      "source": [
        "# GradientBoostingClassifier_parameter_tuning\n",
        "# based on optuna\n",
        "\n",
        "import optuna\n",
        "\n",
        "def gbc_object(trial):\n",
        "    prms={\n",
        "    'n_estimators': trial.suggest_int('n_estimators',200,2000,step=200),\n",
        "    'max_depth': trial.suggest_int('max_depth',10,1000),\n",
        "    \"learning_rate\": trial.suggest_float(\"learning_rate\",1e-5,1),\n",
        "    }\n",
        "    model =GradientBoostingClassifier(**prms)\n",
        "    result = cross_val_score(\n",
        "        model,\n",
        "        data_ssc,\n",
        "        target['9일 뒤 종가'],\n",
        "        cv=kfold\n",
        "    )\n",
        "    return np.mean(result)\n",
        "\n",
        "study = optuna.create_study(direction=\"maximize\")\n",
        "study.optimize(gbc_object,n_trials=20)"
      ]
    },
    {
      "cell_type": "code",
      "execution_count": null,
      "metadata": {
        "colab": {
          "base_uri": "https://localhost:8080/"
        },
        "id": "WRMWmRJ45ZRd",
        "outputId": "5d145467-a2e9-43de-c1a0-49139c62a07b"
      },
      "outputs": [],
      "source": [
        "gbc_best_prms=study.best_params\n",
        "gbc_best_prms"
      ]
    },
    {
      "cell_type": "code",
      "execution_count": null,
      "metadata": {
        "colab": {
          "base_uri": "https://localhost:8080/"
        },
        "id": "0y8wcznKBu3u",
        "outputId": "6bc0fc3c-7154-43c2-9084-84f751a2ad0a"
      },
      "outputs": [],
      "source": [
        "gbc=GradientBoostingClassifier(**gbc_best_prms)\n",
        "gbc.get_params()"
      ]
    },
    {
      "cell_type": "code",
      "execution_count": null,
      "metadata": {
        "colab": {
          "base_uri": "https://localhost:8080/"
        },
        "id": "ccb-MdvL5ZRd",
        "outputId": "4dc59644-0dd3-465f-8a85-44ef75292b9c"
      },
      "outputs": [],
      "source": [
        "# ExtraTreesClassifier_parameter_tuning\n",
        "# based on optuna\n",
        "\n",
        "import optuna\n",
        "\n",
        "def ettc_object(trial):\n",
        "    prms={\n",
        "    'n_estimators': trial.suggest_int('n_estimators',200,2000,step=200),\n",
        "    'max_depth': trial.suggest_int('max_depth',10,1000),\n",
        "    }\n",
        "    model =ExtraTreesClassifier(**prms)\n",
        "    result = cross_val_score(\n",
        "        model,\n",
        "        data_ssc,\n",
        "        target['9일 뒤 종가'],\n",
        "        cv=kfold\n",
        "    )\n",
        "    return np.mean(result)\n",
        "\n",
        "study = optuna.create_study(direction=\"maximize\")\n",
        "study.optimize(ettc_object,n_trials=20)"
      ]
    },
    {
      "cell_type": "code",
      "execution_count": null,
      "metadata": {
        "colab": {
          "base_uri": "https://localhost:8080/"
        },
        "id": "DQGsjWf15ZRe",
        "outputId": "8a371739-8469-4511-c5cd-9d2d37cbdc7a"
      },
      "outputs": [],
      "source": [
        "ettc_best_prms=study.best_params\n",
        "ettc_best_prms"
      ]
    },
    {
      "cell_type": "code",
      "execution_count": null,
      "metadata": {
        "colab": {
          "base_uri": "https://localhost:8080/"
        },
        "id": "2HuUnf-aB845",
        "outputId": "4acea52c-024a-4968-e5f7-e6234671c5a3"
      },
      "outputs": [],
      "source": [
        "ettc=ExtraTreesClassifier(**ettc_best_prms)\n",
        "ettc.get_params()"
      ]
    },
    {
      "cell_type": "code",
      "execution_count": null,
      "metadata": {
        "colab": {
          "base_uri": "https://localhost:8080/"
        },
        "id": "QO3Wbrm25ZRe",
        "outputId": "fb367a0b-cf1c-4f02-b932-dd326a581945"
      },
      "outputs": [],
      "source": [
        "# XGBClassifier_parameter_tuning\n",
        "# based on optuna\n",
        "\n",
        "import optuna\n",
        "\n",
        "def xgbc_object(trial):\n",
        "    prms={\n",
        "    'min_child_weight': trial.suggest_int('min_child_weight',1,10),\n",
        "    'gamma': trial.suggest_float('gamma',0.5,5),\n",
        "    \"subsample\": trial.suggest_float(\"subsample\",1e-1,1),\n",
        "    'colsample_bytree': trial.suggest_float('colsample_bytree',1e-1,1),\n",
        "    'max_depth': trial.suggest_int('max_depth', 5, 30)\n",
        "    }\n",
        "    model =XGBClassifier(**prms)\n",
        "    result = cross_val_score(\n",
        "        model,\n",
        "        data_ssc,\n",
        "        target['9일 뒤 종가'],\n",
        "        cv=kfold\n",
        "    )\n",
        "    return np.mean(result)\n",
        "\n",
        "study = optuna.create_study(direction=\"maximize\")\n",
        "study.optimize(xgbc_object,n_trials=20)"
      ]
    },
    {
      "cell_type": "code",
      "execution_count": null,
      "metadata": {
        "colab": {
          "base_uri": "https://localhost:8080/"
        },
        "id": "knnpMM4B5ZRe",
        "outputId": "468e74ba-36f6-4bc3-84d2-2a007e302039"
      },
      "outputs": [],
      "source": [
        "xgbc_best_prms=study.best_params\n",
        "xgbc_best_prms"
      ]
    },
    {
      "cell_type": "code",
      "execution_count": null,
      "metadata": {
        "colab": {
          "base_uri": "https://localhost:8080/"
        },
        "id": "7d84oTAq6djJ",
        "outputId": "3cbef675-08ee-4e34-9396-99ee22176931"
      },
      "outputs": [],
      "source": [
        "xgbc=XGBClassifier(**xgbc_best_prms)\n",
        "xgbc.get_params()"
      ]
    }
  ],
  "metadata": {
    "colab": {
      "provenance": []
    },
    "kernelspec": {
      "display_name": "Python 3.10.6 ('crawling')",
      "language": "python",
      "name": "python3"
    },
    "language_info": {
      "codemirror_mode": {
        "name": "ipython",
        "version": 3
      },
      "file_extension": ".py",
      "mimetype": "text/x-python",
      "name": "python",
      "nbconvert_exporter": "python",
      "pygments_lexer": "ipython3",
      "version": "3.10.6"
    },
    "orig_nbformat": 4,
    "vscode": {
      "interpreter": {
        "hash": "10621530bc52bc3dcaea48e2b7ef028942e35d2e6e9c9234a88fefd069caf90f"
      }
    }
  },
  "nbformat": 4,
  "nbformat_minor": 0
}
