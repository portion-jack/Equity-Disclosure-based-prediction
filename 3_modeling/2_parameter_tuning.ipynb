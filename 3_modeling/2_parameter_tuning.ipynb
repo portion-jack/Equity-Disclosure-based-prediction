{
 "cells": [
  {
   "cell_type": "code",
   "execution_count": null,
   "metadata": {},
   "outputs": [],
   "source": [
    "# load data\n",
    "import pandas as pd\n",
    "data=pd.read_csv('../data/preprocessed_data/weighted_data.csv', encoding='cp949', index_col=0)\n",
    "target=pd.read_csv('../data/preprocessed_data/y_data.csv', encoding='cp949', index_col=0)"
   ]
  },
  {
   "cell_type": "code",
   "execution_count": null,
   "metadata": {},
   "outputs": [],
   "source": [
    "# import models\n",
    "from sklearn.ensemble import RandomForestClassifier, GradientBoostingClassifier, ExtraTreesClassifier\n",
    "from xgboost import XGBClassifier\n",
    "\n",
    "models_li = [RandomForestClassifier(), GradientBoostingClassifier(), ExtraTreesClassifier(), XGBClassifier()]"
   ]
  },
  {
   "cell_type": "code",
   "execution_count": null,
   "metadata": {},
   "outputs": [],
   "source": [
    "# standard_scaling\n",
    "from sklearn.preprocessing import StandardScaler\n",
    "ssc = StandardScaler()\n",
    "data_ssc=ssc.fit_transform(data)"
   ]
  },
  {
   "cell_type": "code",
   "execution_count": null,
   "metadata": {},
   "outputs": [],
   "source": [
    "import numpy as np\n",
    "from sklearn.metrics import accuracy_score\n",
    "from sklearn.model_selection import cross_val_score,KFold\n",
    "kfold = KFold(n_splits=3,random_state=42,shuffle=True)"
   ]
  },
  {
   "cell_type": "code",
   "execution_count": null,
   "metadata": {},
   "outputs": [],
   "source": [
    "# RandomForestClassifier_parameter_tuning\n",
    "# based on optuna\n",
    "\n",
    "import optuna\n",
    "\n",
    "def rfc_object(trial):\n",
    "    prms={\n",
    "    'bootstrap': trial.suggest_categorical('bootstrap',[True, False]),\n",
    "    'max_depth': trial.suggest_int('max_depth',10,1000),\n",
    "    'max_features': trial.suggest_categorical('max_features',['auto', 'sqrt']),\n",
    "    'min_samples_leaf': trial.suggest_int('min_samples_leaf',1,5),\n",
    "    'min_samples_split': trial.suggest_int('min_samples_split',1,10),\n",
    "    'n_estimators': trial.suggest_int('n_estimators',200,2000,step=200)\n",
    "    }\n",
    "    model =RandomForestClassifier(**prms,n_jobs=-1)\n",
    "    result = cross_val_score(\n",
    "        model,\n",
    "        data_ssc,\n",
    "        target['10일 뒤 종가'],\n",
    "        cv=kfold\n",
    "    )\n",
    "    return np.mean(result)\n",
    "\n",
    "study = optuna.create_study(direction=\"minimize\")\n",
    "study.optimize(rfc_object,n_trials=20,n_jobs=-1)"
   ]
  },
  {
   "cell_type": "code",
   "execution_count": null,
   "metadata": {},
   "outputs": [],
   "source": [
    "rfc_best_prms=study.best_params()\n",
    "rfc_best_prms"
   ]
  },
  {
   "cell_type": "code",
   "execution_count": null,
   "metadata": {},
   "outputs": [],
   "source": [
    "# GradientBoostingClassifier_parameter_tuning\n",
    "# based on optuna\n",
    "\n",
    "import optuna\n",
    "\n",
    "def gbc_object(trial):\n",
    "    prms={\n",
    "    'n_estimators': trial.suggest_int('n_estimators',200,2000,step=200),\n",
    "    'max_depth': trial.suggest_int('max_depth',10,1000),\n",
    "    \"learning_rate\": trial.suggest_float(\"learning_rate\",1e-5,1),\n",
    "    }\n",
    "    model =GradientBoostingClassifier(**prms,n_jobs=-1)\n",
    "    result = cross_val_score(\n",
    "        model,\n",
    "        data_ssc,\n",
    "        target['10일 뒤 종가'],\n",
    "        cv=kfold\n",
    "    )\n",
    "    return np.mean(result)\n",
    "\n",
    "study = optuna.create_study(direction=\"minimize\")\n",
    "study.optimize(gbc_object,n_trials=20,n_jobs=-1)"
   ]
  },
  {
   "cell_type": "code",
   "execution_count": null,
   "metadata": {},
   "outputs": [],
   "source": [
    "gbc_best_prms=study.best_params()\n",
    "gbc_best_prms"
   ]
  },
  {
   "cell_type": "code",
   "execution_count": null,
   "metadata": {},
   "outputs": [],
   "source": [
    "# ExtraTreesClassifier_parameter_tuning\n",
    "# based on optuna\n",
    "\n",
    "import optuna\n",
    "\n",
    "def ettc_object(trial):\n",
    "    prms={\n",
    "    'n_estimators': trial.suggest_int('n_estimators',200,2000,step=200),\n",
    "    'max_depth': trial.suggest_int('max_depth',10,1000),\n",
    "    \"learning_rate\": trial.suggest_float(\"learning_rate\",1e-5,1),\n",
    "    }\n",
    "    model =ExtraTreesClassifier(**prms,n_jobs=-1)\n",
    "    result = cross_val_score(\n",
    "        model,\n",
    "        data_ssc,\n",
    "        target['10일 뒤 종가'],\n",
    "        cv=kfold\n",
    "    )\n",
    "    return np.mean(result)\n",
    "\n",
    "study = optuna.create_study(direction=\"minimize\")\n",
    "study.optimize(ettc_object,n_trials=20,n_jobs=-1)"
   ]
  },
  {
   "cell_type": "code",
   "execution_count": null,
   "metadata": {},
   "outputs": [],
   "source": [
    "ettc_best_prms=study.best_params()\n",
    "ettc_best_prms"
   ]
  },
  {
   "cell_type": "code",
   "execution_count": null,
   "metadata": {},
   "outputs": [],
   "source": [
    "# XGBClassifier_parameter_tuning\n",
    "# based on optuna\n",
    "\n",
    "import optuna\n",
    "\n",
    "def xgbc_object(trial):\n",
    "    prms={\n",
    "    'min_child_weight': trial.suggest_int('min_child_weight',1,10),\n",
    "    'gamma': trial.suggest_float('gamma',0.5,5),\n",
    "    \"subsample\": trial.suggest_float(\"subsample\",1e-1,1),\n",
    "    'colsample_bytree': trial.suggest_float('colsample_bytree',1e-1,1),\n",
    "    'max_depth': trial.suggest_int('max_depth', 5, 30)\n",
    "    }\n",
    "    model =XGBClassifier(**prms,n_jobs=-1)\n",
    "    result = cross_val_score(\n",
    "        model,\n",
    "        data_ssc,\n",
    "        target['10일 뒤 종가'],\n",
    "        cv=kfold\n",
    "    )\n",
    "    return np.mean(result)\n",
    "\n",
    "study = optuna.create_study(direction=\"minimize\")\n",
    "study.optimize(xgbc_object,n_trials=20,n_jobs=-1)"
   ]
  },
  {
   "cell_type": "code",
   "execution_count": null,
   "metadata": {},
   "outputs": [],
   "source": [
    "xgbc_best_prms=study.best_params()\n",
    "xgbc_best_prms"
   ]
  }
 ],
 "metadata": {
  "kernelspec": {
   "display_name": "Python 3.10.6 ('crawling')",
   "language": "python",
   "name": "python3"
  },
  "language_info": {
   "codemirror_mode": {
    "name": "ipython",
    "version": 3
   },
   "file_extension": ".py",
   "mimetype": "text/x-python",
   "name": "python",
   "nbconvert_exporter": "python",
   "pygments_lexer": "ipython3",
   "version": "3.10.6"
  },
  "orig_nbformat": 4,
  "vscode": {
   "interpreter": {
    "hash": "10621530bc52bc3dcaea48e2b7ef028942e35d2e6e9c9234a88fefd069caf90f"
   }
  }
 },
 "nbformat": 4,
 "nbformat_minor": 2
}
