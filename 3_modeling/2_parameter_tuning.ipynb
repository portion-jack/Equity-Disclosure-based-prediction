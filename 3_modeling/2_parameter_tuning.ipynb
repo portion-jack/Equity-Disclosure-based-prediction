{
 "cells": [
  {
   "cell_type": "code",
   "execution_count": 1,
   "metadata": {},
   "outputs": [],
   "source": [
    "# load data\n",
    "import pandas as pd\n",
    "data=pd.read_csv('../data/preprocessed_data/weighted_data.csv', encoding='cp949', index_col=0)\n",
    "target=pd.read_csv('../data/preprocessed_data/y_data.csv', encoding='cp949', index_col=0)"
   ]
  },
  {
   "cell_type": "code",
   "execution_count": 2,
   "metadata": {},
   "outputs": [],
   "source": [
    "# import models\n",
    "from sklearn.ensemble import RandomForestClassifier, GradientBoostingClassifier, ExtraTreesClassifier\n",
    "from xgboost import XGBClassifier\n",
    "\n",
    "models_li = [RandomForestClassifier(), GradientBoostingClassifier(), ExtraTreesClassifier(), XGBClassifier()]"
   ]
  },
  {
   "cell_type": "code",
   "execution_count": 3,
   "metadata": {},
   "outputs": [],
   "source": [
    "# standard_scaling\n",
    "from sklearn.preprocessing import StandardScaler\n",
    "ssc = StandardScaler()\n",
    "data_ssc=ssc.fit_transform(data)"
   ]
  },
  {
   "cell_type": "code",
   "execution_count": 4,
   "metadata": {},
   "outputs": [],
   "source": [
    "import numpy as np\n",
    "from sklearn.metrics import accuracy_score\n",
    "from sklearn.model_selection import cross_val_score,KFold\n",
    "kfold = KFold(n_splits=3,random_state=42,shuffle=True)"
   ]
  },
  {
   "cell_type": "code",
   "execution_count": 5,
   "metadata": {},
   "outputs": [
    {
     "name": "stderr",
     "output_type": "stream",
     "text": [
      "\u001b[32m[I 2022-11-19 12:54:42,639]\u001b[0m A new study created in memory with name: no-name-2373bebb-024b-463d-84d1-f6a3cecf6634\u001b[0m\n",
      "/opt/homebrew/Caskroom/miniforge/base/envs/crawling/lib/python3.10/site-packages/sklearn/ensemble/_forest.py:427: FutureWarning: `max_features='auto'` has been deprecated in 1.1 and will be removed in 1.3. To keep the past behaviour, explicitly set `max_features='sqrt'` or remove this parameter as it is also the default value for RandomForestClassifiers and ExtraTreesClassifiers.\n",
      "  warn(\n",
      "/opt/homebrew/Caskroom/miniforge/base/envs/crawling/lib/python3.10/site-packages/sklearn/ensemble/_forest.py:427: FutureWarning: `max_features='auto'` has been deprecated in 1.1 and will be removed in 1.3. To keep the past behaviour, explicitly set `max_features='sqrt'` or remove this parameter as it is also the default value for RandomForestClassifiers and ExtraTreesClassifiers.\n",
      "  warn(\n",
      "/opt/homebrew/Caskroom/miniforge/base/envs/crawling/lib/python3.10/site-packages/sklearn/ensemble/_forest.py:427: FutureWarning: `max_features='auto'` has been deprecated in 1.1 and will be removed in 1.3. To keep the past behaviour, explicitly set `max_features='sqrt'` or remove this parameter as it is also the default value for RandomForestClassifiers and ExtraTreesClassifiers.\n",
      "  warn(\n",
      "\u001b[32m[I 2022-11-19 12:54:45,609]\u001b[0m Trial 0 finished with value: 0.5115286748874536 and parameters: {'bootstrap': False, 'max_depth': 261, 'max_features': 'auto', 'min_samples_leaf': 4, 'min_samples_split': 8, 'n_estimators': 600}. Best is trial 0 with value: 0.5115286748874536.\u001b[0m\n",
      "\u001b[32m[I 2022-11-19 12:54:45,732]\u001b[0m Trial 1 finished with value: 0.5191818359757291 and parameters: {'bootstrap': False, 'max_depth': 730, 'max_features': 'sqrt', 'min_samples_leaf': 3, 'min_samples_split': 3, 'n_estimators': 1200}. Best is trial 0 with value: 0.5115286748874536.\u001b[0m\n"
     ]
    }
   ],
   "source": [
    "# RandomForestClassifier_parameter_tuning\n",
    "# based on optuna\n",
    "# trial = 20 but for explain trial = 2 \n",
    "\n",
    "trial = 2 \n",
    "import optuna\n",
    "\n",
    "def rfc_object(trial):\n",
    "    prms={\n",
    "    'bootstrap': trial.suggest_categorical('bootstrap',[True, False]),\n",
    "    'max_depth': trial.suggest_int('max_depth',10,1000),\n",
    "    'max_features': trial.suggest_categorical('max_features',['log2','sqrt']),\n",
    "    'min_samples_leaf': trial.suggest_int('min_samples_leaf',1,5),\n",
    "    'min_samples_split': trial.suggest_int('min_samples_split',2,10),\n",
    "    'n_estimators': trial.suggest_int('n_estimators',200,2000,step=200)\n",
    "    }\n",
    "    model =RandomForestClassifier(**prms,n_jobs=-1)\n",
    "    result = cross_val_score(\n",
    "        model,\n",
    "        data_ssc,\n",
    "        target['10일 뒤 종가'],\n",
    "        cv=kfold\n",
    "    )\n",
    "    return np.mean(result)\n",
    "\n",
    "study = optuna.create_study(direction=\"minimize\")\n",
    "study.optimize(rfc_object,n_trials=trial,n_jobs=-1)"
   ]
  },
  {
   "cell_type": "code",
   "execution_count": 7,
   "metadata": {},
   "outputs": [
    {
     "data": {
      "text/plain": [
       "{'bootstrap': False,\n",
       " 'max_depth': 261,\n",
       " 'max_features': 'auto',\n",
       " 'min_samples_leaf': 4,\n",
       " 'min_samples_split': 8,\n",
       " 'n_estimators': 600}"
      ]
     },
     "execution_count": 7,
     "metadata": {},
     "output_type": "execute_result"
    }
   ],
   "source": [
    "rfc_best_prms=study.best_params\n",
    "rfc_best_prms"
   ]
  },
  {
   "cell_type": "code",
   "execution_count": 10,
   "metadata": {},
   "outputs": [
    {
     "name": "stderr",
     "output_type": "stream",
     "text": [
      "\u001b[32m[I 2022-11-19 12:55:42,356]\u001b[0m A new study created in memory with name: no-name-a543999f-0109-4bee-92b5-f49ffa40595a\u001b[0m\n",
      "\u001b[32m[I 2022-11-19 12:55:45,116]\u001b[0m Trial 0 finished with value: 0.5065766294773929 and parameters: {'n_estimators': 1800, 'max_depth': 676, 'learning_rate': 0.5519041742687582}. Best is trial 0 with value: 0.5065766294773929.\u001b[0m\n",
      "\u001b[32m[I 2022-11-19 12:55:49,991]\u001b[0m Trial 1 finished with value: 0.5193384223918575 and parameters: {'n_estimators': 1400, 'max_depth': 873, 'learning_rate': 0.14431979548768067}. Best is trial 0 with value: 0.5065766294773929.\u001b[0m\n"
     ]
    }
   ],
   "source": [
    "# GradientBoostingClassifier_parameter_tuning\n",
    "# based on optuna\n",
    "\n",
    "trial = 2 \n",
    "def gbc_object(trial):\n",
    "    prms={\n",
    "    'n_estimators': trial.suggest_int('n_estimators',200,2000,step=200),\n",
    "    'max_depth': trial.suggest_int('max_depth',10,1000),\n",
    "    \"learning_rate\": trial.suggest_float(\"learning_rate\",1e-5,1),\n",
    "    }\n",
    "    model =GradientBoostingClassifier(**prms)\n",
    "    result = cross_val_score(\n",
    "        model,\n",
    "        data_ssc,\n",
    "        target['10일 뒤 종가'],\n",
    "        cv=kfold\n",
    "    )\n",
    "    return np.mean(result)\n",
    "\n",
    "study = optuna.create_study(direction=\"minimize\")\n",
    "study.optimize(gbc_object,n_trials=trial)"
   ]
  },
  {
   "cell_type": "code",
   "execution_count": 11,
   "metadata": {},
   "outputs": [
    {
     "data": {
      "text/plain": [
       "{'n_estimators': 1800, 'max_depth': 676, 'learning_rate': 0.5519041742687582}"
      ]
     },
     "execution_count": 11,
     "metadata": {},
     "output_type": "execute_result"
    }
   ],
   "source": [
    "gbc_best_prms=study.best_params\n",
    "gbc_best_prms"
   ]
  },
  {
   "cell_type": "code",
   "execution_count": 14,
   "metadata": {},
   "outputs": [
    {
     "name": "stderr",
     "output_type": "stream",
     "text": [
      "\u001b[32m[I 2022-11-19 12:57:03,742]\u001b[0m A new study created in memory with name: no-name-be4607fa-1230-442d-b505-c9ec1fa31820\u001b[0m\n",
      "\u001b[32m[I 2022-11-19 12:57:06,882]\u001b[0m Trial 0 finished with value: 0.5523977294969661 and parameters: {'n_estimators': 2000, 'max_depth': 57}. Best is trial 0 with value: 0.5523977294969661.\u001b[0m\n",
      "\u001b[32m[I 2022-11-19 12:57:08,801]\u001b[0m Trial 1 finished with value: 0.5319240555881777 and parameters: {'n_estimators': 1200, 'max_depth': 898}. Best is trial 1 with value: 0.5319240555881777.\u001b[0m\n"
     ]
    }
   ],
   "source": [
    "# ExtraTreesClassifier_parameter_tuning\n",
    "# based on optuna\n",
    "trial = 2 \n",
    "\n",
    "def ettc_object(trial):\n",
    "    prms={\n",
    "    'n_estimators': trial.suggest_int('n_estimators',200,2000,step=200),\n",
    "    'max_depth': trial.suggest_int('max_depth',10,1000),\n",
    "    # \"learning_rate\": trial.suggest_float(\"learning_rate\",1e-5,1),\n",
    "    }\n",
    "    model =ExtraTreesClassifier(**prms)\n",
    "    result = cross_val_score(\n",
    "        model,\n",
    "        data_ssc,\n",
    "        target['10일 뒤 종가'],\n",
    "        cv=kfold\n",
    "    )\n",
    "    return np.mean(result)\n",
    "\n",
    "study = optuna.create_study(direction=\"minimize\")\n",
    "study.optimize(ettc_object,n_trials=trial)"
   ]
  },
  {
   "cell_type": "code",
   "execution_count": 15,
   "metadata": {},
   "outputs": [
    {
     "data": {
      "text/plain": [
       "{'n_estimators': 1200, 'max_depth': 898}"
      ]
     },
     "execution_count": 15,
     "metadata": {},
     "output_type": "execute_result"
    }
   ],
   "source": [
    "ettc_best_prms=study.best_params\n",
    "ettc_best_prms"
   ]
  },
  {
   "cell_type": "code",
   "execution_count": 16,
   "metadata": {},
   "outputs": [
    {
     "name": "stderr",
     "output_type": "stream",
     "text": [
      "\u001b[32m[I 2022-11-19 12:57:58,098]\u001b[0m A new study created in memory with name: no-name-ac82d1c1-aaf9-4d85-b69b-7d1e7d02bbd1\u001b[0m\n",
      "\u001b[32m[I 2022-11-19 12:57:59,387]\u001b[0m Trial 0 finished with value: 0.4551967116852613 and parameters: {'min_child_weight': 5, 'gamma': 4.662535007797089, 'subsample': 0.1044570723498921, 'colsample_bytree': 0.6528742991907969, 'max_depth': 14}. Best is trial 0 with value: 0.4551967116852613.\u001b[0m\n",
      "\u001b[32m[I 2022-11-19 12:58:00,250]\u001b[0m Trial 1 finished with value: 0.4987864552750049 and parameters: {'min_child_weight': 6, 'gamma': 1.483904049608391, 'subsample': 0.3792930389785073, 'colsample_bytree': 0.5699951595715426, 'max_depth': 14}. Best is trial 0 with value: 0.4551967116852613.\u001b[0m\n"
     ]
    }
   ],
   "source": [
    "# XGBClassifier_parameter_tuning\n",
    "# based on optuna\n",
    "trial = 2 \n",
    "\n",
    "def xgbc_object(trial):\n",
    "    prms={\n",
    "    'min_child_weight': trial.suggest_int('min_child_weight',1,10),\n",
    "    'gamma': trial.suggest_float('gamma',0.5,5),\n",
    "    \"subsample\": trial.suggest_float(\"subsample\",1e-1,1),\n",
    "    'colsample_bytree': trial.suggest_float('colsample_bytree',1e-1,1),\n",
    "    'max_depth': trial.suggest_int('max_depth', 5, 30)\n",
    "    }\n",
    "    model =XGBClassifier(**prms,n_jobs=-1)\n",
    "    result = cross_val_score(\n",
    "        model,\n",
    "        data_ssc,\n",
    "        target['10일 뒤 종가'],\n",
    "        cv=kfold\n",
    "    )\n",
    "    return np.mean(result)\n",
    "\n",
    "study = optuna.create_study(direction=\"minimize\")\n",
    "study.optimize(xgbc_object,n_trials=trial,n_jobs=-1)"
   ]
  },
  {
   "cell_type": "code",
   "execution_count": 18,
   "metadata": {},
   "outputs": [
    {
     "data": {
      "text/plain": [
       "{'min_child_weight': 5,\n",
       " 'gamma': 4.662535007797089,\n",
       " 'subsample': 0.1044570723498921,\n",
       " 'colsample_bytree': 0.6528742991907969,\n",
       " 'max_depth': 14}"
      ]
     },
     "execution_count": 18,
     "metadata": {},
     "output_type": "execute_result"
    }
   ],
   "source": [
    "xgbc_best_prms=study.best_params\n",
    "xgbc_best_prms"
   ]
  },
  {
   "cell_type": "code",
   "execution_count": 38,
   "metadata": {},
   "outputs": [],
   "source": [
    "gbc = GradientBoostingClassifier(**gbc_best_prms)\n",
    "xgbc = XGBClassifier(**xgbc_best_prms)\n",
    "rfc = RandomForestClassifier(**rfc_best_prms)\n",
    "ettc_raw = ExtraTreesClassifier()\n",
    "ettc_best = ExtraTreesClassifier(**ettc_best_prms)\n",
    "\n",
    "from mlxtend.classifier import StackingClassifier\n",
    "\n",
    "stc = StackingClassifier(\n",
    "    classifiers=[gbc,xgbc,rfc,ettc_raw],\n",
    "    meta_classifier=ettc_best\n",
    ")"
   ]
  },
  {
   "cell_type": "code",
   "execution_count": 39,
   "metadata": {},
   "outputs": [
    {
     "data": {
      "text/plain": [
       "{'average_probas': False,\n",
       " 'classifiers': [GradientBoostingClassifier(learning_rate=0.5519041742687582, max_depth=676,\n",
       "                             n_estimators=1800),\n",
       "  XGBClassifier(base_score=None, booster=None, callbacks=None,\n",
       "                colsample_bylevel=None, colsample_bynode=None,\n",
       "                colsample_bytree=0.6528742991907969, early_stopping_rounds=None,\n",
       "                enable_categorical=False, eval_metric=None, feature_types=None,\n",
       "                gamma=4.662535007797089, gpu_id=None, grow_policy=None,\n",
       "                importance_type=None, interaction_constraints=None,\n",
       "                learning_rate=None, max_bin=None, max_cat_threshold=None,\n",
       "                max_cat_to_onehot=None, max_delta_step=None, max_depth=14,\n",
       "                max_leaves=None, min_child_weight=5, missing=nan,\n",
       "                monotone_constraints=None, n_estimators=100, n_jobs=None,\n",
       "                num_parallel_tree=None, predictor=None, random_state=None, ...),\n",
       "  RandomForestClassifier(bootstrap=False, max_depth=261, min_samples_leaf=4,\n",
       "                         min_samples_split=8, n_estimators=600),\n",
       "  ExtraTreesClassifier()],\n",
       " 'drop_proba_col': None,\n",
       " 'fit_base_estimators': True,\n",
       " 'meta_classifier__bootstrap': False,\n",
       " 'meta_classifier__ccp_alpha': 0.0,\n",
       " 'meta_classifier__class_weight': None,\n",
       " 'meta_classifier__criterion': 'gini',\n",
       " 'meta_classifier__max_depth': 898,\n",
       " 'meta_classifier__max_features': 'sqrt',\n",
       " 'meta_classifier__max_leaf_nodes': None,\n",
       " 'meta_classifier__max_samples': None,\n",
       " 'meta_classifier__min_impurity_decrease': 0.0,\n",
       " 'meta_classifier__min_samples_leaf': 1,\n",
       " 'meta_classifier__min_samples_split': 2,\n",
       " 'meta_classifier__min_weight_fraction_leaf': 0.0,\n",
       " 'meta_classifier__n_estimators': 1200,\n",
       " 'meta_classifier__n_jobs': None,\n",
       " 'meta_classifier__oob_score': False,\n",
       " 'meta_classifier__random_state': None,\n",
       " 'meta_classifier__verbose': 0,\n",
       " 'meta_classifier__warm_start': False,\n",
       " 'meta_classifier': ExtraTreesClassifier(max_depth=898, n_estimators=1200),\n",
       " 'store_train_meta_features': False,\n",
       " 'use_clones': True,\n",
       " 'use_features_in_secondary': False,\n",
       " 'use_probas': False,\n",
       " 'verbose': 0,\n",
       " 'gradientboostingclassifier': GradientBoostingClassifier(learning_rate=0.5519041742687582, max_depth=676,\n",
       "                            n_estimators=1800),\n",
       " 'xgbclassifier': XGBClassifier(base_score=None, booster=None, callbacks=None,\n",
       "               colsample_bylevel=None, colsample_bynode=None,\n",
       "               colsample_bytree=0.6528742991907969, early_stopping_rounds=None,\n",
       "               enable_categorical=False, eval_metric=None, feature_types=None,\n",
       "               gamma=4.662535007797089, gpu_id=None, grow_policy=None,\n",
       "               importance_type=None, interaction_constraints=None,\n",
       "               learning_rate=None, max_bin=None, max_cat_threshold=None,\n",
       "               max_cat_to_onehot=None, max_delta_step=None, max_depth=14,\n",
       "               max_leaves=None, min_child_weight=5, missing=nan,\n",
       "               monotone_constraints=None, n_estimators=100, n_jobs=None,\n",
       "               num_parallel_tree=None, predictor=None, random_state=None, ...),\n",
       " 'randomforestclassifier': RandomForestClassifier(bootstrap=False, max_depth=261, min_samples_leaf=4,\n",
       "                        min_samples_split=8, n_estimators=600),\n",
       " 'extratreesclassifier': ExtraTreesClassifier(),\n",
       " 'gradientboostingclassifier__ccp_alpha': 0.0,\n",
       " 'gradientboostingclassifier__criterion': 'friedman_mse',\n",
       " 'gradientboostingclassifier__init': None,\n",
       " 'gradientboostingclassifier__learning_rate': 0.5519041742687582,\n",
       " 'gradientboostingclassifier__loss': 'log_loss',\n",
       " 'gradientboostingclassifier__max_depth': 676,\n",
       " 'gradientboostingclassifier__max_features': None,\n",
       " 'gradientboostingclassifier__max_leaf_nodes': None,\n",
       " 'gradientboostingclassifier__min_impurity_decrease': 0.0,\n",
       " 'gradientboostingclassifier__min_samples_leaf': 1,\n",
       " 'gradientboostingclassifier__min_samples_split': 2,\n",
       " 'gradientboostingclassifier__min_weight_fraction_leaf': 0.0,\n",
       " 'gradientboostingclassifier__n_estimators': 1800,\n",
       " 'gradientboostingclassifier__n_iter_no_change': None,\n",
       " 'gradientboostingclassifier__random_state': None,\n",
       " 'gradientboostingclassifier__subsample': 1.0,\n",
       " 'gradientboostingclassifier__tol': 0.0001,\n",
       " 'gradientboostingclassifier__validation_fraction': 0.1,\n",
       " 'gradientboostingclassifier__verbose': 0,\n",
       " 'gradientboostingclassifier__warm_start': False,\n",
       " 'xgbclassifier__objective': 'binary:logistic',\n",
       " 'xgbclassifier__use_label_encoder': None,\n",
       " 'xgbclassifier__base_score': None,\n",
       " 'xgbclassifier__booster': None,\n",
       " 'xgbclassifier__callbacks': None,\n",
       " 'xgbclassifier__colsample_bylevel': None,\n",
       " 'xgbclassifier__colsample_bynode': None,\n",
       " 'xgbclassifier__colsample_bytree': 0.6528742991907969,\n",
       " 'xgbclassifier__early_stopping_rounds': None,\n",
       " 'xgbclassifier__enable_categorical': False,\n",
       " 'xgbclassifier__eval_metric': None,\n",
       " 'xgbclassifier__feature_types': None,\n",
       " 'xgbclassifier__gamma': 4.662535007797089,\n",
       " 'xgbclassifier__gpu_id': None,\n",
       " 'xgbclassifier__grow_policy': None,\n",
       " 'xgbclassifier__importance_type': None,\n",
       " 'xgbclassifier__interaction_constraints': None,\n",
       " 'xgbclassifier__learning_rate': None,\n",
       " 'xgbclassifier__max_bin': None,\n",
       " 'xgbclassifier__max_cat_threshold': None,\n",
       " 'xgbclassifier__max_cat_to_onehot': None,\n",
       " 'xgbclassifier__max_delta_step': None,\n",
       " 'xgbclassifier__max_depth': 14,\n",
       " 'xgbclassifier__max_leaves': None,\n",
       " 'xgbclassifier__min_child_weight': 5,\n",
       " 'xgbclassifier__missing': nan,\n",
       " 'xgbclassifier__monotone_constraints': None,\n",
       " 'xgbclassifier__n_estimators': 100,\n",
       " 'xgbclassifier__n_jobs': None,\n",
       " 'xgbclassifier__num_parallel_tree': None,\n",
       " 'xgbclassifier__predictor': None,\n",
       " 'xgbclassifier__random_state': None,\n",
       " 'xgbclassifier__reg_alpha': None,\n",
       " 'xgbclassifier__reg_lambda': None,\n",
       " 'xgbclassifier__sampling_method': None,\n",
       " 'xgbclassifier__scale_pos_weight': None,\n",
       " 'xgbclassifier__subsample': 0.1044570723498921,\n",
       " 'xgbclassifier__tree_method': None,\n",
       " 'xgbclassifier__validate_parameters': None,\n",
       " 'xgbclassifier__verbosity': None,\n",
       " 'randomforestclassifier__bootstrap': False,\n",
       " 'randomforestclassifier__ccp_alpha': 0.0,\n",
       " 'randomforestclassifier__class_weight': None,\n",
       " 'randomforestclassifier__criterion': 'gini',\n",
       " 'randomforestclassifier__max_depth': 261,\n",
       " 'randomforestclassifier__max_features': 'sqrt',\n",
       " 'randomforestclassifier__max_leaf_nodes': None,\n",
       " 'randomforestclassifier__max_samples': None,\n",
       " 'randomforestclassifier__min_impurity_decrease': 0.0,\n",
       " 'randomforestclassifier__min_samples_leaf': 4,\n",
       " 'randomforestclassifier__min_samples_split': 8,\n",
       " 'randomforestclassifier__min_weight_fraction_leaf': 0.0,\n",
       " 'randomforestclassifier__n_estimators': 600,\n",
       " 'randomforestclassifier__n_jobs': None,\n",
       " 'randomforestclassifier__oob_score': False,\n",
       " 'randomforestclassifier__random_state': None,\n",
       " 'randomforestclassifier__verbose': 0,\n",
       " 'randomforestclassifier__warm_start': False,\n",
       " 'extratreesclassifier__bootstrap': False,\n",
       " 'extratreesclassifier__ccp_alpha': 0.0,\n",
       " 'extratreesclassifier__class_weight': None,\n",
       " 'extratreesclassifier__criterion': 'gini',\n",
       " 'extratreesclassifier__max_depth': None,\n",
       " 'extratreesclassifier__max_features': 'sqrt',\n",
       " 'extratreesclassifier__max_leaf_nodes': None,\n",
       " 'extratreesclassifier__max_samples': None,\n",
       " 'extratreesclassifier__min_impurity_decrease': 0.0,\n",
       " 'extratreesclassifier__min_samples_leaf': 1,\n",
       " 'extratreesclassifier__min_samples_split': 2,\n",
       " 'extratreesclassifier__min_weight_fraction_leaf': 0.0,\n",
       " 'extratreesclassifier__n_estimators': 100,\n",
       " 'extratreesclassifier__n_jobs': None,\n",
       " 'extratreesclassifier__oob_score': False,\n",
       " 'extratreesclassifier__random_state': None,\n",
       " 'extratreesclassifier__verbose': 0,\n",
       " 'extratreesclassifier__warm_start': False}"
      ]
     },
     "execution_count": 39,
     "metadata": {},
     "output_type": "execute_result"
    }
   ],
   "source": [
    "stc.get_params()"
   ]
  },
  {
   "cell_type": "code",
   "execution_count": 41,
   "metadata": {},
   "outputs": [
    {
     "data": {
      "text/html": [
       "<style>#sk-container-id-3 {color: black;background-color: white;}#sk-container-id-3 pre{padding: 0;}#sk-container-id-3 div.sk-toggleable {background-color: white;}#sk-container-id-3 label.sk-toggleable__label {cursor: pointer;display: block;width: 100%;margin-bottom: 0;padding: 0.3em;box-sizing: border-box;text-align: center;}#sk-container-id-3 label.sk-toggleable__label-arrow:before {content: \"▸\";float: left;margin-right: 0.25em;color: #696969;}#sk-container-id-3 label.sk-toggleable__label-arrow:hover:before {color: black;}#sk-container-id-3 div.sk-estimator:hover label.sk-toggleable__label-arrow:before {color: black;}#sk-container-id-3 div.sk-toggleable__content {max-height: 0;max-width: 0;overflow: hidden;text-align: left;background-color: #f0f8ff;}#sk-container-id-3 div.sk-toggleable__content pre {margin: 0.2em;color: black;border-radius: 0.25em;background-color: #f0f8ff;}#sk-container-id-3 input.sk-toggleable__control:checked~div.sk-toggleable__content {max-height: 200px;max-width: 100%;overflow: auto;}#sk-container-id-3 input.sk-toggleable__control:checked~label.sk-toggleable__label-arrow:before {content: \"▾\";}#sk-container-id-3 div.sk-estimator input.sk-toggleable__control:checked~label.sk-toggleable__label {background-color: #d4ebff;}#sk-container-id-3 div.sk-label input.sk-toggleable__control:checked~label.sk-toggleable__label {background-color: #d4ebff;}#sk-container-id-3 input.sk-hidden--visually {border: 0;clip: rect(1px 1px 1px 1px);clip: rect(1px, 1px, 1px, 1px);height: 1px;margin: -1px;overflow: hidden;padding: 0;position: absolute;width: 1px;}#sk-container-id-3 div.sk-estimator {font-family: monospace;background-color: #f0f8ff;border: 1px dotted black;border-radius: 0.25em;box-sizing: border-box;margin-bottom: 0.5em;}#sk-container-id-3 div.sk-estimator:hover {background-color: #d4ebff;}#sk-container-id-3 div.sk-parallel-item::after {content: \"\";width: 100%;border-bottom: 1px solid gray;flex-grow: 1;}#sk-container-id-3 div.sk-label:hover label.sk-toggleable__label {background-color: #d4ebff;}#sk-container-id-3 div.sk-serial::before {content: \"\";position: absolute;border-left: 1px solid gray;box-sizing: border-box;top: 0;bottom: 0;left: 50%;z-index: 0;}#sk-container-id-3 div.sk-serial {display: flex;flex-direction: column;align-items: center;background-color: white;padding-right: 0.2em;padding-left: 0.2em;position: relative;}#sk-container-id-3 div.sk-item {position: relative;z-index: 1;}#sk-container-id-3 div.sk-parallel {display: flex;align-items: stretch;justify-content: center;background-color: white;position: relative;}#sk-container-id-3 div.sk-item::before, #sk-container-id-3 div.sk-parallel-item::before {content: \"\";position: absolute;border-left: 1px solid gray;box-sizing: border-box;top: 0;bottom: 0;left: 50%;z-index: -1;}#sk-container-id-3 div.sk-parallel-item {display: flex;flex-direction: column;z-index: 1;position: relative;background-color: white;}#sk-container-id-3 div.sk-parallel-item:first-child::after {align-self: flex-end;width: 50%;}#sk-container-id-3 div.sk-parallel-item:last-child::after {align-self: flex-start;width: 50%;}#sk-container-id-3 div.sk-parallel-item:only-child::after {width: 0;}#sk-container-id-3 div.sk-dashed-wrapped {border: 1px dashed gray;margin: 0 0.4em 0.5em 0.4em;box-sizing: border-box;padding-bottom: 0.4em;background-color: white;}#sk-container-id-3 div.sk-label label {font-family: monospace;font-weight: bold;display: inline-block;line-height: 1.2em;}#sk-container-id-3 div.sk-label-container {text-align: center;}#sk-container-id-3 div.sk-container {/* jupyter's `normalize.less` sets `[hidden] { display: none; }` but bootstrap.min.css set `[hidden] { display: none !important; }` so we also need the `!important` here to be able to override the default hidden behavior on the sphinx rendered scikit-learn.org. See: https://github.com/scikit-learn/scikit-learn/issues/21755 */display: inline-block !important;position: relative;}#sk-container-id-3 div.sk-text-repr-fallback {display: none;}</style><div id=\"sk-container-id-3\" class=\"sk-top-container\"><div class=\"sk-text-repr-fallback\"><pre>RandomForestClassifier(bootstrap=False, max_depth=261, min_samples_leaf=4,\n",
       "                       min_samples_split=8, n_estimators=600)</pre><b>In a Jupyter environment, please rerun this cell to show the HTML representation or trust the notebook. <br />On GitHub, the HTML representation is unable to render, please try loading this page with nbviewer.org.</b></div><div class=\"sk-container\" hidden><div class=\"sk-item\"><div class=\"sk-estimator sk-toggleable\"><input class=\"sk-toggleable__control sk-hidden--visually\" id=\"sk-estimator-id-5\" type=\"checkbox\" checked><label for=\"sk-estimator-id-5\" class=\"sk-toggleable__label sk-toggleable__label-arrow\">RandomForestClassifier</label><div class=\"sk-toggleable__content\"><pre>RandomForestClassifier(bootstrap=False, max_depth=261, min_samples_leaf=4,\n",
       "                       min_samples_split=8, n_estimators=600)</pre></div></div></div></div></div>"
      ],
      "text/plain": [
       "RandomForestClassifier(bootstrap=False, max_depth=261, min_samples_leaf=4,\n",
       "                       min_samples_split=8, n_estimators=600)"
      ]
     },
     "execution_count": 41,
     "metadata": {},
     "output_type": "execute_result"
    }
   ],
   "source": [
    "rfc"
   ]
  },
  {
   "cell_type": "code",
   "execution_count": 42,
   "metadata": {},
   "outputs": [],
   "source": [
    "stc = StackingClassifier(\n",
    "    classifiers=[gbc,xgbc,rfc,ettc_raw],\n",
    "    meta_classifier=ettc_best\n",
    ")"
   ]
  },
  {
   "cell_type": "code",
   "execution_count": 40,
   "metadata": {},
   "outputs": [],
   "source": [
    "prms={\n",
    "    'xgbclassifier__objective':['binary:logistic','multi:softprob'],\n",
    "    'xgbclassifier__n_estimators':[100,500],\n",
    "    'randomforestclassifier__bootstrap':[True,False],\n",
    "    'randomforestclassifier__criterion':['gini','entropy','log_loss'],\n",
    "\n",
    "    }\n"
   ]
  },
  {
   "cell_type": "code",
   "execution_count": 44,
   "metadata": {},
   "outputs": [
    {
     "name": "stdout",
     "output_type": "stream",
     "text": [
      "Fitting 5 folds for each of 24 candidates, totalling 120 fits\n",
      "[CV] END randomforestclassifier__bootstrap=True, randomforestclassifier__criterion=gini, xgbclassifier__n_estimators=100, xgbclassifier__objective=binary:logistic; total time=   2.4s\n",
      "[CV] END randomforestclassifier__bootstrap=True, randomforestclassifier__criterion=gini, xgbclassifier__n_estimators=100, xgbclassifier__objective=binary:logistic; total time=   2.3s\n",
      "[CV] END randomforestclassifier__bootstrap=True, randomforestclassifier__criterion=gini, xgbclassifier__n_estimators=100, xgbclassifier__objective=binary:logistic; total time=   2.3s\n",
      "[CV] END randomforestclassifier__bootstrap=True, randomforestclassifier__criterion=gini, xgbclassifier__n_estimators=100, xgbclassifier__objective=binary:logistic; total time=   2.3s\n",
      "[CV] END randomforestclassifier__bootstrap=True, randomforestclassifier__criterion=gini, xgbclassifier__n_estimators=100, xgbclassifier__objective=binary:logistic; total time=   2.3s\n",
      "[CV] END randomforestclassifier__bootstrap=True, randomforestclassifier__criterion=gini, xgbclassifier__n_estimators=100, xgbclassifier__objective=multi:softprob; total time=   2.3s\n",
      "[CV] END randomforestclassifier__bootstrap=True, randomforestclassifier__criterion=gini, xgbclassifier__n_estimators=100, xgbclassifier__objective=multi:softprob; total time=   2.3s\n",
      "[CV] END randomforestclassifier__bootstrap=True, randomforestclassifier__criterion=gini, xgbclassifier__n_estimators=100, xgbclassifier__objective=multi:softprob; total time=   2.3s\n",
      "[CV] END randomforestclassifier__bootstrap=True, randomforestclassifier__criterion=gini, xgbclassifier__n_estimators=100, xgbclassifier__objective=multi:softprob; total time=   2.5s\n",
      "[CV] END randomforestclassifier__bootstrap=True, randomforestclassifier__criterion=gini, xgbclassifier__n_estimators=100, xgbclassifier__objective=multi:softprob; total time=   2.3s\n",
      "[CV] END randomforestclassifier__bootstrap=True, randomforestclassifier__criterion=gini, xgbclassifier__n_estimators=500, xgbclassifier__objective=binary:logistic; total time=   3.6s\n",
      "[CV] END randomforestclassifier__bootstrap=True, randomforestclassifier__criterion=gini, xgbclassifier__n_estimators=500, xgbclassifier__objective=binary:logistic; total time=   3.6s\n",
      "[CV] END randomforestclassifier__bootstrap=True, randomforestclassifier__criterion=gini, xgbclassifier__n_estimators=500, xgbclassifier__objective=binary:logistic; total time=   3.5s\n",
      "[CV] END randomforestclassifier__bootstrap=True, randomforestclassifier__criterion=gini, xgbclassifier__n_estimators=500, xgbclassifier__objective=binary:logistic; total time=   3.5s\n",
      "[CV] END randomforestclassifier__bootstrap=True, randomforestclassifier__criterion=gini, xgbclassifier__n_estimators=500, xgbclassifier__objective=binary:logistic; total time=   3.5s\n",
      "[CV] END randomforestclassifier__bootstrap=True, randomforestclassifier__criterion=gini, xgbclassifier__n_estimators=500, xgbclassifier__objective=multi:softprob; total time=   3.6s\n",
      "[CV] END randomforestclassifier__bootstrap=True, randomforestclassifier__criterion=gini, xgbclassifier__n_estimators=500, xgbclassifier__objective=multi:softprob; total time=   3.5s\n",
      "[CV] END randomforestclassifier__bootstrap=True, randomforestclassifier__criterion=gini, xgbclassifier__n_estimators=500, xgbclassifier__objective=multi:softprob; total time=   3.5s\n",
      "[CV] END randomforestclassifier__bootstrap=True, randomforestclassifier__criterion=gini, xgbclassifier__n_estimators=500, xgbclassifier__objective=multi:softprob; total time=   3.6s\n",
      "[CV] END randomforestclassifier__bootstrap=True, randomforestclassifier__criterion=gini, xgbclassifier__n_estimators=500, xgbclassifier__objective=multi:softprob; total time=   3.4s\n",
      "[CV] END randomforestclassifier__bootstrap=True, randomforestclassifier__criterion=entropy, xgbclassifier__n_estimators=100, xgbclassifier__objective=binary:logistic; total time=   2.5s\n",
      "[CV] END randomforestclassifier__bootstrap=True, randomforestclassifier__criterion=entropy, xgbclassifier__n_estimators=100, xgbclassifier__objective=binary:logistic; total time=   2.5s\n",
      "[CV] END randomforestclassifier__bootstrap=True, randomforestclassifier__criterion=entropy, xgbclassifier__n_estimators=100, xgbclassifier__objective=binary:logistic; total time=   2.6s\n",
      "[CV] END randomforestclassifier__bootstrap=True, randomforestclassifier__criterion=entropy, xgbclassifier__n_estimators=100, xgbclassifier__objective=binary:logistic; total time=   2.7s\n",
      "[CV] END randomforestclassifier__bootstrap=True, randomforestclassifier__criterion=entropy, xgbclassifier__n_estimators=100, xgbclassifier__objective=binary:logistic; total time=   2.5s\n",
      "[CV] END randomforestclassifier__bootstrap=True, randomforestclassifier__criterion=entropy, xgbclassifier__n_estimators=100, xgbclassifier__objective=multi:softprob; total time=   2.5s\n",
      "[CV] END randomforestclassifier__bootstrap=True, randomforestclassifier__criterion=entropy, xgbclassifier__n_estimators=100, xgbclassifier__objective=multi:softprob; total time=   2.5s\n",
      "[CV] END randomforestclassifier__bootstrap=True, randomforestclassifier__criterion=entropy, xgbclassifier__n_estimators=100, xgbclassifier__objective=multi:softprob; total time=   2.5s\n",
      "[CV] END randomforestclassifier__bootstrap=True, randomforestclassifier__criterion=entropy, xgbclassifier__n_estimators=100, xgbclassifier__objective=multi:softprob; total time=   2.5s\n",
      "[CV] END randomforestclassifier__bootstrap=True, randomforestclassifier__criterion=entropy, xgbclassifier__n_estimators=100, xgbclassifier__objective=multi:softprob; total time=   2.4s\n",
      "[CV] END randomforestclassifier__bootstrap=True, randomforestclassifier__criterion=entropy, xgbclassifier__n_estimators=500, xgbclassifier__objective=binary:logistic; total time=   3.7s\n",
      "[CV] END randomforestclassifier__bootstrap=True, randomforestclassifier__criterion=entropy, xgbclassifier__n_estimators=500, xgbclassifier__objective=binary:logistic; total time=   3.6s\n",
      "[CV] END randomforestclassifier__bootstrap=True, randomforestclassifier__criterion=entropy, xgbclassifier__n_estimators=500, xgbclassifier__objective=binary:logistic; total time=   3.6s\n",
      "[CV] END randomforestclassifier__bootstrap=True, randomforestclassifier__criterion=entropy, xgbclassifier__n_estimators=500, xgbclassifier__objective=binary:logistic; total time=   3.6s\n",
      "[CV] END randomforestclassifier__bootstrap=True, randomforestclassifier__criterion=entropy, xgbclassifier__n_estimators=500, xgbclassifier__objective=binary:logistic; total time=   3.5s\n",
      "[CV] END randomforestclassifier__bootstrap=True, randomforestclassifier__criterion=entropy, xgbclassifier__n_estimators=500, xgbclassifier__objective=multi:softprob; total time=   3.6s\n",
      "[CV] END randomforestclassifier__bootstrap=True, randomforestclassifier__criterion=entropy, xgbclassifier__n_estimators=500, xgbclassifier__objective=multi:softprob; total time=   3.6s\n",
      "[CV] END randomforestclassifier__bootstrap=True, randomforestclassifier__criterion=entropy, xgbclassifier__n_estimators=500, xgbclassifier__objective=multi:softprob; total time=   3.6s\n",
      "[CV] END randomforestclassifier__bootstrap=True, randomforestclassifier__criterion=entropy, xgbclassifier__n_estimators=500, xgbclassifier__objective=multi:softprob; total time=   3.6s\n",
      "[CV] END randomforestclassifier__bootstrap=True, randomforestclassifier__criterion=entropy, xgbclassifier__n_estimators=500, xgbclassifier__objective=multi:softprob; total time=   3.5s\n",
      "[CV] END randomforestclassifier__bootstrap=True, randomforestclassifier__criterion=log_loss, xgbclassifier__n_estimators=100, xgbclassifier__objective=binary:logistic; total time=   2.5s\n",
      "[CV] END randomforestclassifier__bootstrap=True, randomforestclassifier__criterion=log_loss, xgbclassifier__n_estimators=100, xgbclassifier__objective=binary:logistic; total time=   2.7s\n",
      "[CV] END randomforestclassifier__bootstrap=True, randomforestclassifier__criterion=log_loss, xgbclassifier__n_estimators=100, xgbclassifier__objective=binary:logistic; total time=   2.5s\n",
      "[CV] END randomforestclassifier__bootstrap=True, randomforestclassifier__criterion=log_loss, xgbclassifier__n_estimators=100, xgbclassifier__objective=binary:logistic; total time=   2.6s\n",
      "[CV] END randomforestclassifier__bootstrap=True, randomforestclassifier__criterion=log_loss, xgbclassifier__n_estimators=100, xgbclassifier__objective=binary:logistic; total time=   2.7s\n",
      "[CV] END randomforestclassifier__bootstrap=True, randomforestclassifier__criterion=log_loss, xgbclassifier__n_estimators=100, xgbclassifier__objective=multi:softprob; total time=   2.6s\n",
      "[CV] END randomforestclassifier__bootstrap=True, randomforestclassifier__criterion=log_loss, xgbclassifier__n_estimators=100, xgbclassifier__objective=multi:softprob; total time=   2.6s\n",
      "[CV] END randomforestclassifier__bootstrap=True, randomforestclassifier__criterion=log_loss, xgbclassifier__n_estimators=100, xgbclassifier__objective=multi:softprob; total time=   2.5s\n",
      "[CV] END randomforestclassifier__bootstrap=True, randomforestclassifier__criterion=log_loss, xgbclassifier__n_estimators=100, xgbclassifier__objective=multi:softprob; total time=   2.5s\n",
      "[CV] END randomforestclassifier__bootstrap=True, randomforestclassifier__criterion=log_loss, xgbclassifier__n_estimators=100, xgbclassifier__objective=multi:softprob; total time=   2.6s\n",
      "[CV] END randomforestclassifier__bootstrap=True, randomforestclassifier__criterion=log_loss, xgbclassifier__n_estimators=500, xgbclassifier__objective=binary:logistic; total time=   3.7s\n",
      "[CV] END randomforestclassifier__bootstrap=True, randomforestclassifier__criterion=log_loss, xgbclassifier__n_estimators=500, xgbclassifier__objective=binary:logistic; total time=   4.1s\n",
      "[CV] END randomforestclassifier__bootstrap=True, randomforestclassifier__criterion=log_loss, xgbclassifier__n_estimators=500, xgbclassifier__objective=binary:logistic; total time=   3.9s\n",
      "[CV] END randomforestclassifier__bootstrap=True, randomforestclassifier__criterion=log_loss, xgbclassifier__n_estimators=500, xgbclassifier__objective=binary:logistic; total time=   3.7s\n",
      "[CV] END randomforestclassifier__bootstrap=True, randomforestclassifier__criterion=log_loss, xgbclassifier__n_estimators=500, xgbclassifier__objective=binary:logistic; total time=   3.8s\n",
      "[CV] END randomforestclassifier__bootstrap=True, randomforestclassifier__criterion=log_loss, xgbclassifier__n_estimators=500, xgbclassifier__objective=multi:softprob; total time=   4.2s\n",
      "[CV] END randomforestclassifier__bootstrap=True, randomforestclassifier__criterion=log_loss, xgbclassifier__n_estimators=500, xgbclassifier__objective=multi:softprob; total time=   3.6s\n",
      "[CV] END randomforestclassifier__bootstrap=True, randomforestclassifier__criterion=log_loss, xgbclassifier__n_estimators=500, xgbclassifier__objective=multi:softprob; total time=   4.1s\n",
      "[CV] END randomforestclassifier__bootstrap=True, randomforestclassifier__criterion=log_loss, xgbclassifier__n_estimators=500, xgbclassifier__objective=multi:softprob; total time=   4.2s\n",
      "[CV] END randomforestclassifier__bootstrap=True, randomforestclassifier__criterion=log_loss, xgbclassifier__n_estimators=500, xgbclassifier__objective=multi:softprob; total time=   4.1s\n",
      "[CV] END randomforestclassifier__bootstrap=False, randomforestclassifier__criterion=gini, xgbclassifier__n_estimators=100, xgbclassifier__objective=binary:logistic; total time=   2.4s\n",
      "[CV] END randomforestclassifier__bootstrap=False, randomforestclassifier__criterion=gini, xgbclassifier__n_estimators=100, xgbclassifier__objective=binary:logistic; total time=   2.3s\n",
      "[CV] END randomforestclassifier__bootstrap=False, randomforestclassifier__criterion=gini, xgbclassifier__n_estimators=100, xgbclassifier__objective=binary:logistic; total time=   2.5s\n",
      "[CV] END randomforestclassifier__bootstrap=False, randomforestclassifier__criterion=gini, xgbclassifier__n_estimators=100, xgbclassifier__objective=binary:logistic; total time=   2.7s\n",
      "[CV] END randomforestclassifier__bootstrap=False, randomforestclassifier__criterion=gini, xgbclassifier__n_estimators=100, xgbclassifier__objective=binary:logistic; total time=   2.3s\n",
      "[CV] END randomforestclassifier__bootstrap=False, randomforestclassifier__criterion=gini, xgbclassifier__n_estimators=100, xgbclassifier__objective=multi:softprob; total time=   2.3s\n",
      "[CV] END randomforestclassifier__bootstrap=False, randomforestclassifier__criterion=gini, xgbclassifier__n_estimators=100, xgbclassifier__objective=multi:softprob; total time=   2.6s\n",
      "[CV] END randomforestclassifier__bootstrap=False, randomforestclassifier__criterion=gini, xgbclassifier__n_estimators=100, xgbclassifier__objective=multi:softprob; total time=   2.6s\n",
      "[CV] END randomforestclassifier__bootstrap=False, randomforestclassifier__criterion=gini, xgbclassifier__n_estimators=100, xgbclassifier__objective=multi:softprob; total time=   2.3s\n",
      "[CV] END randomforestclassifier__bootstrap=False, randomforestclassifier__criterion=gini, xgbclassifier__n_estimators=100, xgbclassifier__objective=multi:softprob; total time=   2.3s\n",
      "[CV] END randomforestclassifier__bootstrap=False, randomforestclassifier__criterion=gini, xgbclassifier__n_estimators=500, xgbclassifier__objective=binary:logistic; total time=   3.4s\n",
      "[CV] END randomforestclassifier__bootstrap=False, randomforestclassifier__criterion=gini, xgbclassifier__n_estimators=500, xgbclassifier__objective=binary:logistic; total time=   3.4s\n",
      "[CV] END randomforestclassifier__bootstrap=False, randomforestclassifier__criterion=gini, xgbclassifier__n_estimators=500, xgbclassifier__objective=binary:logistic; total time=   3.7s\n",
      "[CV] END randomforestclassifier__bootstrap=False, randomforestclassifier__criterion=gini, xgbclassifier__n_estimators=500, xgbclassifier__objective=binary:logistic; total time=   3.8s\n",
      "[CV] END randomforestclassifier__bootstrap=False, randomforestclassifier__criterion=gini, xgbclassifier__n_estimators=500, xgbclassifier__objective=binary:logistic; total time=   3.8s\n",
      "[CV] END randomforestclassifier__bootstrap=False, randomforestclassifier__criterion=gini, xgbclassifier__n_estimators=500, xgbclassifier__objective=multi:softprob; total time=   3.7s\n",
      "[CV] END randomforestclassifier__bootstrap=False, randomforestclassifier__criterion=gini, xgbclassifier__n_estimators=500, xgbclassifier__objective=multi:softprob; total time=   3.4s\n",
      "[CV] END randomforestclassifier__bootstrap=False, randomforestclassifier__criterion=gini, xgbclassifier__n_estimators=500, xgbclassifier__objective=multi:softprob; total time=   3.3s\n",
      "[CV] END randomforestclassifier__bootstrap=False, randomforestclassifier__criterion=gini, xgbclassifier__n_estimators=500, xgbclassifier__objective=multi:softprob; total time=   3.3s\n",
      "[CV] END randomforestclassifier__bootstrap=False, randomforestclassifier__criterion=gini, xgbclassifier__n_estimators=500, xgbclassifier__objective=multi:softprob; total time=   3.5s\n",
      "[CV] END randomforestclassifier__bootstrap=False, randomforestclassifier__criterion=entropy, xgbclassifier__n_estimators=100, xgbclassifier__objective=binary:logistic; total time=   2.7s\n",
      "[CV] END randomforestclassifier__bootstrap=False, randomforestclassifier__criterion=entropy, xgbclassifier__n_estimators=100, xgbclassifier__objective=binary:logistic; total time=   2.8s\n",
      "[CV] END randomforestclassifier__bootstrap=False, randomforestclassifier__criterion=entropy, xgbclassifier__n_estimators=100, xgbclassifier__objective=binary:logistic; total time=   2.7s\n",
      "[CV] END randomforestclassifier__bootstrap=False, randomforestclassifier__criterion=entropy, xgbclassifier__n_estimators=100, xgbclassifier__objective=binary:logistic; total time=   2.7s\n",
      "[CV] END randomforestclassifier__bootstrap=False, randomforestclassifier__criterion=entropy, xgbclassifier__n_estimators=100, xgbclassifier__objective=binary:logistic; total time=   2.6s\n",
      "[CV] END randomforestclassifier__bootstrap=False, randomforestclassifier__criterion=entropy, xgbclassifier__n_estimators=100, xgbclassifier__objective=multi:softprob; total time=   2.7s\n",
      "[CV] END randomforestclassifier__bootstrap=False, randomforestclassifier__criterion=entropy, xgbclassifier__n_estimators=100, xgbclassifier__objective=multi:softprob; total time=   2.8s\n",
      "[CV] END randomforestclassifier__bootstrap=False, randomforestclassifier__criterion=entropy, xgbclassifier__n_estimators=100, xgbclassifier__objective=multi:softprob; total time=   2.8s\n",
      "[CV] END randomforestclassifier__bootstrap=False, randomforestclassifier__criterion=entropy, xgbclassifier__n_estimators=100, xgbclassifier__objective=multi:softprob; total time=   2.7s\n",
      "[CV] END randomforestclassifier__bootstrap=False, randomforestclassifier__criterion=entropy, xgbclassifier__n_estimators=100, xgbclassifier__objective=multi:softprob; total time=   2.6s\n",
      "[CV] END randomforestclassifier__bootstrap=False, randomforestclassifier__criterion=entropy, xgbclassifier__n_estimators=500, xgbclassifier__objective=binary:logistic; total time=   3.8s\n",
      "[CV] END randomforestclassifier__bootstrap=False, randomforestclassifier__criterion=entropy, xgbclassifier__n_estimators=500, xgbclassifier__objective=binary:logistic; total time=   3.9s\n",
      "[CV] END randomforestclassifier__bootstrap=False, randomforestclassifier__criterion=entropy, xgbclassifier__n_estimators=500, xgbclassifier__objective=binary:logistic; total time=   3.9s\n",
      "[CV] END randomforestclassifier__bootstrap=False, randomforestclassifier__criterion=entropy, xgbclassifier__n_estimators=500, xgbclassifier__objective=binary:logistic; total time=   3.8s\n",
      "[CV] END randomforestclassifier__bootstrap=False, randomforestclassifier__criterion=entropy, xgbclassifier__n_estimators=500, xgbclassifier__objective=binary:logistic; total time=   3.7s\n",
      "[CV] END randomforestclassifier__bootstrap=False, randomforestclassifier__criterion=entropy, xgbclassifier__n_estimators=500, xgbclassifier__objective=multi:softprob; total time=   3.8s\n",
      "[CV] END randomforestclassifier__bootstrap=False, randomforestclassifier__criterion=entropy, xgbclassifier__n_estimators=500, xgbclassifier__objective=multi:softprob; total time=   3.9s\n",
      "[CV] END randomforestclassifier__bootstrap=False, randomforestclassifier__criterion=entropy, xgbclassifier__n_estimators=500, xgbclassifier__objective=multi:softprob; total time=   3.7s\n",
      "[CV] END randomforestclassifier__bootstrap=False, randomforestclassifier__criterion=entropy, xgbclassifier__n_estimators=500, xgbclassifier__objective=multi:softprob; total time=   3.8s\n",
      "[CV] END randomforestclassifier__bootstrap=False, randomforestclassifier__criterion=entropy, xgbclassifier__n_estimators=500, xgbclassifier__objective=multi:softprob; total time=   3.8s\n",
      "[CV] END randomforestclassifier__bootstrap=False, randomforestclassifier__criterion=log_loss, xgbclassifier__n_estimators=100, xgbclassifier__objective=binary:logistic; total time=   2.7s\n",
      "[CV] END randomforestclassifier__bootstrap=False, randomforestclassifier__criterion=log_loss, xgbclassifier__n_estimators=100, xgbclassifier__objective=binary:logistic; total time=   2.7s\n",
      "[CV] END randomforestclassifier__bootstrap=False, randomforestclassifier__criterion=log_loss, xgbclassifier__n_estimators=100, xgbclassifier__objective=binary:logistic; total time=   2.8s\n",
      "[CV] END randomforestclassifier__bootstrap=False, randomforestclassifier__criterion=log_loss, xgbclassifier__n_estimators=100, xgbclassifier__objective=binary:logistic; total time=   2.8s\n",
      "[CV] END randomforestclassifier__bootstrap=False, randomforestclassifier__criterion=log_loss, xgbclassifier__n_estimators=100, xgbclassifier__objective=binary:logistic; total time=   2.6s\n",
      "[CV] END randomforestclassifier__bootstrap=False, randomforestclassifier__criterion=log_loss, xgbclassifier__n_estimators=100, xgbclassifier__objective=multi:softprob; total time=   2.9s\n",
      "[CV] END randomforestclassifier__bootstrap=False, randomforestclassifier__criterion=log_loss, xgbclassifier__n_estimators=100, xgbclassifier__objective=multi:softprob; total time=   3.0s\n",
      "[CV] END randomforestclassifier__bootstrap=False, randomforestclassifier__criterion=log_loss, xgbclassifier__n_estimators=100, xgbclassifier__objective=multi:softprob; total time=   3.0s\n",
      "[CV] END randomforestclassifier__bootstrap=False, randomforestclassifier__criterion=log_loss, xgbclassifier__n_estimators=100, xgbclassifier__objective=multi:softprob; total time=   3.1s\n",
      "[CV] END randomforestclassifier__bootstrap=False, randomforestclassifier__criterion=log_loss, xgbclassifier__n_estimators=100, xgbclassifier__objective=multi:softprob; total time=   2.9s\n",
      "[CV] END randomforestclassifier__bootstrap=False, randomforestclassifier__criterion=log_loss, xgbclassifier__n_estimators=500, xgbclassifier__objective=binary:logistic; total time=   3.9s\n",
      "[CV] END randomforestclassifier__bootstrap=False, randomforestclassifier__criterion=log_loss, xgbclassifier__n_estimators=500, xgbclassifier__objective=binary:logistic; total time=   4.0s\n",
      "[CV] END randomforestclassifier__bootstrap=False, randomforestclassifier__criterion=log_loss, xgbclassifier__n_estimators=500, xgbclassifier__objective=binary:logistic; total time=   4.2s\n",
      "[CV] END randomforestclassifier__bootstrap=False, randomforestclassifier__criterion=log_loss, xgbclassifier__n_estimators=500, xgbclassifier__objective=binary:logistic; total time=   4.6s\n",
      "[CV] END randomforestclassifier__bootstrap=False, randomforestclassifier__criterion=log_loss, xgbclassifier__n_estimators=500, xgbclassifier__objective=binary:logistic; total time=   4.4s\n",
      "[CV] END randomforestclassifier__bootstrap=False, randomforestclassifier__criterion=log_loss, xgbclassifier__n_estimators=500, xgbclassifier__objective=multi:softprob; total time=   4.4s\n",
      "[CV] END randomforestclassifier__bootstrap=False, randomforestclassifier__criterion=log_loss, xgbclassifier__n_estimators=500, xgbclassifier__objective=multi:softprob; total time=   4.4s\n",
      "[CV] END randomforestclassifier__bootstrap=False, randomforestclassifier__criterion=log_loss, xgbclassifier__n_estimators=500, xgbclassifier__objective=multi:softprob; total time=   4.2s\n",
      "[CV] END randomforestclassifier__bootstrap=False, randomforestclassifier__criterion=log_loss, xgbclassifier__n_estimators=500, xgbclassifier__objective=multi:softprob; total time=   4.2s\n",
      "[CV] END randomforestclassifier__bootstrap=False, randomforestclassifier__criterion=log_loss, xgbclassifier__n_estimators=500, xgbclassifier__objective=multi:softprob; total time=   3.9s\n"
     ]
    },
    {
     "data": {
      "text/html": [
       "<style>#sk-container-id-4 {color: black;background-color: white;}#sk-container-id-4 pre{padding: 0;}#sk-container-id-4 div.sk-toggleable {background-color: white;}#sk-container-id-4 label.sk-toggleable__label {cursor: pointer;display: block;width: 100%;margin-bottom: 0;padding: 0.3em;box-sizing: border-box;text-align: center;}#sk-container-id-4 label.sk-toggleable__label-arrow:before {content: \"▸\";float: left;margin-right: 0.25em;color: #696969;}#sk-container-id-4 label.sk-toggleable__label-arrow:hover:before {color: black;}#sk-container-id-4 div.sk-estimator:hover label.sk-toggleable__label-arrow:before {color: black;}#sk-container-id-4 div.sk-toggleable__content {max-height: 0;max-width: 0;overflow: hidden;text-align: left;background-color: #f0f8ff;}#sk-container-id-4 div.sk-toggleable__content pre {margin: 0.2em;color: black;border-radius: 0.25em;background-color: #f0f8ff;}#sk-container-id-4 input.sk-toggleable__control:checked~div.sk-toggleable__content {max-height: 200px;max-width: 100%;overflow: auto;}#sk-container-id-4 input.sk-toggleable__control:checked~label.sk-toggleable__label-arrow:before {content: \"▾\";}#sk-container-id-4 div.sk-estimator input.sk-toggleable__control:checked~label.sk-toggleable__label {background-color: #d4ebff;}#sk-container-id-4 div.sk-label input.sk-toggleable__control:checked~label.sk-toggleable__label {background-color: #d4ebff;}#sk-container-id-4 input.sk-hidden--visually {border: 0;clip: rect(1px 1px 1px 1px);clip: rect(1px, 1px, 1px, 1px);height: 1px;margin: -1px;overflow: hidden;padding: 0;position: absolute;width: 1px;}#sk-container-id-4 div.sk-estimator {font-family: monospace;background-color: #f0f8ff;border: 1px dotted black;border-radius: 0.25em;box-sizing: border-box;margin-bottom: 0.5em;}#sk-container-id-4 div.sk-estimator:hover {background-color: #d4ebff;}#sk-container-id-4 div.sk-parallel-item::after {content: \"\";width: 100%;border-bottom: 1px solid gray;flex-grow: 1;}#sk-container-id-4 div.sk-label:hover label.sk-toggleable__label {background-color: #d4ebff;}#sk-container-id-4 div.sk-serial::before {content: \"\";position: absolute;border-left: 1px solid gray;box-sizing: border-box;top: 0;bottom: 0;left: 50%;z-index: 0;}#sk-container-id-4 div.sk-serial {display: flex;flex-direction: column;align-items: center;background-color: white;padding-right: 0.2em;padding-left: 0.2em;position: relative;}#sk-container-id-4 div.sk-item {position: relative;z-index: 1;}#sk-container-id-4 div.sk-parallel {display: flex;align-items: stretch;justify-content: center;background-color: white;position: relative;}#sk-container-id-4 div.sk-item::before, #sk-container-id-4 div.sk-parallel-item::before {content: \"\";position: absolute;border-left: 1px solid gray;box-sizing: border-box;top: 0;bottom: 0;left: 50%;z-index: -1;}#sk-container-id-4 div.sk-parallel-item {display: flex;flex-direction: column;z-index: 1;position: relative;background-color: white;}#sk-container-id-4 div.sk-parallel-item:first-child::after {align-self: flex-end;width: 50%;}#sk-container-id-4 div.sk-parallel-item:last-child::after {align-self: flex-start;width: 50%;}#sk-container-id-4 div.sk-parallel-item:only-child::after {width: 0;}#sk-container-id-4 div.sk-dashed-wrapped {border: 1px dashed gray;margin: 0 0.4em 0.5em 0.4em;box-sizing: border-box;padding-bottom: 0.4em;background-color: white;}#sk-container-id-4 div.sk-label label {font-family: monospace;font-weight: bold;display: inline-block;line-height: 1.2em;}#sk-container-id-4 div.sk-label-container {text-align: center;}#sk-container-id-4 div.sk-container {/* jupyter's `normalize.less` sets `[hidden] { display: none; }` but bootstrap.min.css set `[hidden] { display: none !important; }` so we also need the `!important` here to be able to override the default hidden behavior on the sphinx rendered scikit-learn.org. See: https://github.com/scikit-learn/scikit-learn/issues/21755 */display: inline-block !important;position: relative;}#sk-container-id-4 div.sk-text-repr-fallback {display: none;}</style><div id=\"sk-container-id-4\" class=\"sk-top-container\"><div class=\"sk-text-repr-fallback\"><pre>GridSearchCV(estimator=StackingClassifier(classifiers=[GradientBoostingClassifier(learning_rate=0.5519041742687582,\n",
       "                                                                                  max_depth=676,\n",
       "                                                                                  n_estimators=1800),\n",
       "                                                       XGBClassifier(base_score=None,\n",
       "                                                                     booster=None,\n",
       "                                                                     callbacks=None,\n",
       "                                                                     colsample_bylevel=None,\n",
       "                                                                     colsample_bynode=None,\n",
       "                                                                     colsample_bytree=0.6528742991907969,\n",
       "                                                                     early_stopping_rounds=None,\n",
       "                                                                     enable_categorical=False,\n",
       "                                                                     eval_metric...\n",
       "                                                                              n_estimators=600),\n",
       "                                                       ExtraTreesClassifier()],\n",
       "                                          meta_classifier=ExtraTreesClassifier(max_depth=898,\n",
       "                                                                               n_estimators=1200)),\n",
       "             param_grid={&#x27;randomforestclassifier__bootstrap&#x27;: [True, False],\n",
       "                         &#x27;randomforestclassifier__criterion&#x27;: [&#x27;gini&#x27;,\n",
       "                                                               &#x27;entropy&#x27;,\n",
       "                                                               &#x27;log_loss&#x27;],\n",
       "                         &#x27;xgbclassifier__n_estimators&#x27;: [100, 500],\n",
       "                         &#x27;xgbclassifier__objective&#x27;: [&#x27;binary:logistic&#x27;,\n",
       "                                                      &#x27;multi:softprob&#x27;]},\n",
       "             verbose=2)</pre><b>In a Jupyter environment, please rerun this cell to show the HTML representation or trust the notebook. <br />On GitHub, the HTML representation is unable to render, please try loading this page with nbviewer.org.</b></div><div class=\"sk-container\" hidden><div class=\"sk-item sk-dashed-wrapped\"><div class=\"sk-label-container\"><div class=\"sk-label sk-toggleable\"><input class=\"sk-toggleable__control sk-hidden--visually\" id=\"sk-estimator-id-6\" type=\"checkbox\" ><label for=\"sk-estimator-id-6\" class=\"sk-toggleable__label sk-toggleable__label-arrow\">GridSearchCV</label><div class=\"sk-toggleable__content\"><pre>GridSearchCV(estimator=StackingClassifier(classifiers=[GradientBoostingClassifier(learning_rate=0.5519041742687582,\n",
       "                                                                                  max_depth=676,\n",
       "                                                                                  n_estimators=1800),\n",
       "                                                       XGBClassifier(base_score=None,\n",
       "                                                                     booster=None,\n",
       "                                                                     callbacks=None,\n",
       "                                                                     colsample_bylevel=None,\n",
       "                                                                     colsample_bynode=None,\n",
       "                                                                     colsample_bytree=0.6528742991907969,\n",
       "                                                                     early_stopping_rounds=None,\n",
       "                                                                     enable_categorical=False,\n",
       "                                                                     eval_metric...\n",
       "                                                                              n_estimators=600),\n",
       "                                                       ExtraTreesClassifier()],\n",
       "                                          meta_classifier=ExtraTreesClassifier(max_depth=898,\n",
       "                                                                               n_estimators=1200)),\n",
       "             param_grid={&#x27;randomforestclassifier__bootstrap&#x27;: [True, False],\n",
       "                         &#x27;randomforestclassifier__criterion&#x27;: [&#x27;gini&#x27;,\n",
       "                                                               &#x27;entropy&#x27;,\n",
       "                                                               &#x27;log_loss&#x27;],\n",
       "                         &#x27;xgbclassifier__n_estimators&#x27;: [100, 500],\n",
       "                         &#x27;xgbclassifier__objective&#x27;: [&#x27;binary:logistic&#x27;,\n",
       "                                                      &#x27;multi:softprob&#x27;]},\n",
       "             verbose=2)</pre></div></div></div><div class=\"sk-parallel\"><div class=\"sk-parallel-item\"><div class=\"sk-item\"><div class=\"sk-label-container\"><div class=\"sk-label sk-toggleable\"><input class=\"sk-toggleable__control sk-hidden--visually\" id=\"sk-estimator-id-7\" type=\"checkbox\" ><label for=\"sk-estimator-id-7\" class=\"sk-toggleable__label sk-toggleable__label-arrow\">estimator: StackingClassifier</label><div class=\"sk-toggleable__content\"><pre>StackingClassifier(classifiers=[GradientBoostingClassifier(learning_rate=0.5519041742687582,\n",
       "                                                           max_depth=676,\n",
       "                                                           n_estimators=1800),\n",
       "                                XGBClassifier(base_score=None, booster=None,\n",
       "                                              callbacks=None,\n",
       "                                              colsample_bylevel=None,\n",
       "                                              colsample_bynode=None,\n",
       "                                              colsample_bytree=0.6528742991907969,\n",
       "                                              early_stopping_rounds=None,\n",
       "                                              enable_categorical=False,\n",
       "                                              eval_metric=None,\n",
       "                                              feature_types=Non...\n",
       "                                              min_child_weight=5, missing=nan,\n",
       "                                              monotone_constraints=None,\n",
       "                                              n_estimators=100, n_jobs=None,\n",
       "                                              num_parallel_tree=None,\n",
       "                                              predictor=None, random_state=None, ...),\n",
       "                                RandomForestClassifier(bootstrap=False,\n",
       "                                                       max_depth=261,\n",
       "                                                       min_samples_leaf=4,\n",
       "                                                       min_samples_split=8,\n",
       "                                                       n_estimators=600),\n",
       "                                ExtraTreesClassifier()],\n",
       "                   meta_classifier=ExtraTreesClassifier(max_depth=898,\n",
       "                                                        n_estimators=1200))</pre></div></div></div><div class=\"sk-serial\"><div class=\"sk-item sk-dashed-wrapped\"><div class=\"sk-parallel\"><div class=\"sk-parallel-item\"><div class=\"sk-item\"><div class=\"sk-label-container\"><div class=\"sk-label sk-toggleable\"><input class=\"sk-toggleable__control sk-hidden--visually\" id=\"sk-estimator-id-8\" type=\"checkbox\" ><label for=\"sk-estimator-id-8\" class=\"sk-toggleable__label sk-toggleable__label-arrow\">meta_classifier: ExtraTreesClassifier</label><div class=\"sk-toggleable__content\"><pre>ExtraTreesClassifier(max_depth=898, n_estimators=1200)</pre></div></div></div><div class=\"sk-serial\"><div class=\"sk-item\"><div class=\"sk-estimator sk-toggleable\"><input class=\"sk-toggleable__control sk-hidden--visually\" id=\"sk-estimator-id-9\" type=\"checkbox\" ><label for=\"sk-estimator-id-9\" class=\"sk-toggleable__label sk-toggleable__label-arrow\">ExtraTreesClassifier</label><div class=\"sk-toggleable__content\"><pre>ExtraTreesClassifier(max_depth=898, n_estimators=1200)</pre></div></div></div></div></div></div></div></div></div></div></div></div></div></div></div>"
      ],
      "text/plain": [
       "GridSearchCV(estimator=StackingClassifier(classifiers=[GradientBoostingClassifier(learning_rate=0.5519041742687582,\n",
       "                                                                                  max_depth=676,\n",
       "                                                                                  n_estimators=1800),\n",
       "                                                       XGBClassifier(base_score=None,\n",
       "                                                                     booster=None,\n",
       "                                                                     callbacks=None,\n",
       "                                                                     colsample_bylevel=None,\n",
       "                                                                     colsample_bynode=None,\n",
       "                                                                     colsample_bytree=0.6528742991907969,\n",
       "                                                                     early_stopping_rounds=None,\n",
       "                                                                     enable_categorical=False,\n",
       "                                                                     eval_metric...\n",
       "                                                                              n_estimators=600),\n",
       "                                                       ExtraTreesClassifier()],\n",
       "                                          meta_classifier=ExtraTreesClassifier(max_depth=898,\n",
       "                                                                               n_estimators=1200)),\n",
       "             param_grid={'randomforestclassifier__bootstrap': [True, False],\n",
       "                         'randomforestclassifier__criterion': ['gini',\n",
       "                                                               'entropy',\n",
       "                                                               'log_loss'],\n",
       "                         'xgbclassifier__n_estimators': [100, 500],\n",
       "                         'xgbclassifier__objective': ['binary:logistic',\n",
       "                                                      'multi:softprob']},\n",
       "             verbose=2)"
      ]
     },
     "execution_count": 44,
     "metadata": {},
     "output_type": "execute_result"
    }
   ],
   "source": [
    "from sklearn.model_selection import GridSearchCV\n",
    "grs_cv = GridSearchCV(\n",
    "    stc,\n",
    "    param_grid=prms,\n",
    "    verbose=2\n",
    ")\n",
    "grs_cv.fit(data,target['10일 뒤 종가'])"
   ]
  },
  {
   "cell_type": "code",
   "execution_count": 47,
   "metadata": {},
   "outputs": [
    {
     "data": {
      "text/plain": [
       "{'randomforestclassifier__bootstrap': True,\n",
       " 'randomforestclassifier__criterion': 'entropy',\n",
       " 'xgbclassifier__n_estimators': 100,\n",
       " 'xgbclassifier__objective': 'multi:softprob'}"
      ]
     },
     "execution_count": 47,
     "metadata": {},
     "output_type": "execute_result"
    }
   ],
   "source": [
    "grs_cv.best_params_"
   ]
  }
 ],
 "metadata": {
  "kernelspec": {
   "display_name": "Python 3.10.6 ('crawling')",
   "language": "python",
   "name": "python3"
  },
  "language_info": {
   "codemirror_mode": {
    "name": "ipython",
    "version": 3
   },
   "file_extension": ".py",
   "mimetype": "text/x-python",
   "name": "python",
   "nbconvert_exporter": "python",
   "pygments_lexer": "ipython3",
   "version": "3.10.6"
  },
  "orig_nbformat": 4,
  "vscode": {
   "interpreter": {
    "hash": "10621530bc52bc3dcaea48e2b7ef028942e35d2e6e9c9234a88fefd069caf90f"
   }
  }
 },
 "nbformat": 4,
 "nbformat_minor": 2
}
