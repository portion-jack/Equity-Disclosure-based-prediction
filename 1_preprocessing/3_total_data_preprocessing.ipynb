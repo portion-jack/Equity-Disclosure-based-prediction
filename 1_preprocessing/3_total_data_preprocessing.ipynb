{
 "cells": [
  {
   "cell_type": "code",
   "execution_count": null,
   "metadata": {},
   "outputs": [],
   "source": [
    "# 전처리 동안 사용할 라이브러리 종합\n",
    "import pandas as pd\n",
    "import numpy as np\n",
    "\n",
    "import re\n",
    "import copy\n",
    "import datetime\n",
    "from tqdm import tqdm\n",
    "\n",
    "import seaborn as sns\n",
    "import matplotlib.pyplot as plt\n",
    "%matplotlib inline\n",
    "plt.rcParams['axes.unicode_minus'] = False\n",
    "plt.rcParams['font.family'] = 'AppleGothic'\n",
    "sns.set(font=\"AppleGothic\", \n",
    "        rc={\"axes.unicode_minus\":False},\n",
    "        style='darkgrid')\n",
    "\n",
    "import warnings\n",
    "warnings.filterwarnings('ignore')"
   ]
  },
  {
   "cell_type": "code",
   "execution_count": null,
   "metadata": {},
   "outputs": [],
   "source": [
    "company_info = pd.read_csv('../data/preprocessed_data/samsung.csv',encoding='cp949',index_col=0)\n",
    "stock_price = pd.read_csv('../data/preprocessed_data/samsung_price.csv',encoding='cp949',index_col=0)"
   ]
  },
  {
   "cell_type": "code",
   "execution_count": null,
   "metadata": {},
   "outputs": [],
   "source": [
    "company_info['보고일자'] = pd.to_datetime(company_info['보고일자'])\n",
    "stock_price['날짜'] = pd.to_datetime(stock_price['날짜'])"
   ]
  },
  {
   "cell_type": "code",
   "execution_count": null,
   "metadata": {},
   "outputs": [],
   "source": [
    "# 데이터 종합\n",
    "dataset = pd.merge(stock_price, company_info, how='right', left_on=['날짜'], right_on=['보고일자']).\\\n",
    "    sort_values(\"보고일자\", ascending=False).fillna(method='backfill').reset_index(drop=True)\n",
    "dataset.drop(columns=[\"보고일자\"], inplace=True)\n",
    "    \n",
    "# 날짜데이터를 년/월/일/요일로 구분\n",
    "dataset[\"년\"] = dataset[\"날짜\"].apply(lambda x: int(datetime.datetime.strftime(x, \"%Y-%m-%d\").split(\"-\")[0]))\n",
    "dataset[\"월\"] = dataset[\"날짜\"].apply(lambda x: int(datetime.datetime.strftime(x, \"%Y-%m-%d\").split(\"-\")[1]))\n",
    "dataset[\"일\"] = dataset[\"날짜\"].apply(lambda x: int(datetime.datetime.strftime(x, \"%Y-%m-%d\").split(\"-\")[2]))\n",
    "\n",
    "temp = dataset[\"날짜\"].dt.weekday\n",
    "dataset[\"요일\"] = pd.Categorical.from_codes(temp, [\"월\", \"화\", \"수\", \"목\", \"금\"], ordered=True)\n",
    "\n",
    "dataset.head()"
   ]
  },
  {
   "cell_type": "code",
   "execution_count": null,
   "metadata": {},
   "outputs": [],
   "source": [
    "dataset.shape"
   ]
  },
  {
   "cell_type": "code",
   "execution_count": null,
   "metadata": {},
   "outputs": [],
   "source": [
    "dataset.columns"
   ]
  },
  {
   "cell_type": "code",
   "execution_count": null,
   "metadata": {},
   "outputs": [],
   "source": [
    "dataset.head()"
   ]
  },
  {
   "cell_type": "code",
   "execution_count": null,
   "metadata": {},
   "outputs": [],
   "source": [
    "cols = list(dataset.dtypes[dataset.dtypes == \"object\"].index)\n",
    "cols"
   ]
  },
  {
   "cell_type": "code",
   "execution_count": null,
   "metadata": {},
   "outputs": [],
   "source": [
    "for col in cols:\n",
    "    print(\"=\"*50, \"\\n\")\n",
    "    print(dataset[col].value_counts())\n",
    "    print(\"\\n카테고리 갯수 :\",len(dataset[col].value_counts()), \"\\n\")"
   ]
  },
  {
   "cell_type": "code",
   "execution_count": null,
   "metadata": {},
   "outputs": [],
   "source": [
    "# 직위명 컬럼 정리\n",
    "temp_pos = dataset[\"직위명\"].value_counts().to_frame().reset_index().rename(columns={\"index\":\"직위명\", \"직위명\":\"count\"})\n",
    "temp_pos"
   ]
  },
  {
   "cell_type": "code",
   "execution_count": null,
   "metadata": {},
   "outputs": [],
   "source": [
    "names = list(temp_pos[\"직위명\"].values)\n",
    "names"
   ]
  },
  {
   "cell_type": "code",
   "execution_count": null,
   "metadata": {},
   "outputs": [],
   "source": [
    "_my_dict = {\n",
    "    '임원진':['상무','전무','이사','이사대우','사외이사','상무보','대표이사','상임감사','기획지원본부장','임원(실장)',\n",
    "           '기타비상무이사','본부장','상임이사','이사회의장','임원(제철소부소장)','임원(그룹장)','상무이사','임원(연구소장)','에너지소재본부장',\n",
    "           '사내이사','위원','분석솔루션센터장','IE소재연구센터장','친환경제품솔루션센터장','ValueCreationCenter장','비상임이사','상무(연구위원)',\n",
    "           '상ㅁ','임원(국장)','수석연구위원(전무)','의장','신성장동력본부장','홍보실장/SUPEX추구협의회파견/상무','본부임원','전력계통본부장',\n",
    "           '전문위원','임원(제철소장)','임원(부장)','임원(철강솔루션&cr연구소장)','임원(본부장)','Communication부문장','센터장','FIG리더','부문장',\n",
    "           '배터리마케팅본부장','ValueCreation&crCenter장','Portfolio부문장','부사장(대행)'],\n",
    "    \n",
    "    '대표':['사장','부회장','대표이사사장','회장','대표이사회장','수석부회장','대표이사/CEO','수석부사장','사장(대행)','부사장',\n",
    "          '사내이사부사장','대표이사부회장','대표이사부사장','수석부사장(대행)','E&P사업대표','대표이사(사장)','대표이사/부회장',\n",
    "          'E&P사장','기획재무실장','배터리사업대표(사장)','총괄사장'],\n",
    "    \n",
    "    '실무진':['담당','실장','연구위원','수석연구위원','소장','PR담당','기술연구소장','연구소장','Compliance담당','Comm.기획담당',\n",
    "           '기술위원','법무담당','재무실장','IP전략담당','구매담당','사업부장','DT부문장','양극소재실장','내화물생산실장','글로벌로재사업실장',\n",
    "           'BMR추진담당','세무전략담당','기반기술연구소장'],\n",
    "    \n",
    "    '고문':['명예회장','비상근고문','상임고문','상근고문','고문'],\n",
    "    \n",
    "    '기타':['자문역','보좌역','직무대행'],\n",
    "    \n",
    "    '없음':['-','서울강남구도곡2동'],\n",
    "}"
   ]
  },
  {
   "cell_type": "code",
   "execution_count": null,
   "metadata": {},
   "outputs": [],
   "source": [
    "_names=[i.strip().replace(' ','') for i in names ]\n",
    "\n",
    "temp = list()\n",
    "\n",
    "for k in _my_dict.keys():\n",
    "    for v in _my_dict[k]:\n",
    "        temp.append((v,k))\n",
    "\n",
    "mapper=dict(temp)"
   ]
  },
  {
   "cell_type": "code",
   "execution_count": null,
   "metadata": {},
   "outputs": [],
   "source": [
    "dataset[\"직위명\"] = dataset[\"직위명\"].apply(lambda x: mapper[x.strip().replace(' ',\"\")])"
   ]
  },
  {
   "cell_type": "code",
   "execution_count": null,
   "metadata": {},
   "outputs": [],
   "source": [
    "dataset[\"직위명\"].unique()"
   ]
  },
  {
   "cell_type": "code",
   "execution_count": null,
   "metadata": {},
   "outputs": [],
   "source": [
    "# EDA분석을 위한 데이터 save\n",
    "dataset.to_csv(\"../data/preprocessed_data/forEDA.csv\", encoding='cp949')"
   ]
  },
  {
   "cell_type": "code",
   "execution_count": null,
   "metadata": {},
   "outputs": [],
   "source": [
    "# onehot 인코딩 적용할 컬럼 선정 후 처리\n",
    "cols = list(dataset.dtypes[dataset.dtypes == \"object\"].index)\n",
    "cols.append(\"요일\")\n",
    "\n",
    "temp = pd.DataFrame()\n",
    "for col in cols:\n",
    "    temp = pd.concat([temp, pd.get_dummies(dataset[col], prefix=col)], axis=1)\n",
    "\n",
    "dataset = pd.concat([dataset.drop(columns=cols), temp], axis=1)\n",
    "\n",
    "# 파생변수 생성\n",
    "# 1. 당일 거래량/발행주식 총수\n",
    "dataset[\"거래량/발행주식 총수\"] = dataset[\"거래량\"] / dataset[\"발행주식 총수\"] * 100\n",
    "# 2. 개인매매/당일 거래량 비율\n",
    "dataset[\"당일개인거래비율\"] = dataset[\"개인\"]/dataset[\"거래량\"] * 100\n",
    "# 3. 기관매매/당일 거래량 비율\n",
    "dataset[\"당일기관거래비율\"] = dataset[\"기관\"]/dataset[\"거래량\"] * 100\n",
    "# 4. 프로그램/당일 거래량 비율\n",
    "dataset[\"당일프로그램거래비율\"] = dataset[\"프로그램\"]/dataset[\"거래량\"] * 100 # 모두 % 단위임."
   ]
  },
  {
   "cell_type": "code",
   "execution_count": null,
   "metadata": {},
   "outputs": [],
   "source": [
    "# 결측치 확인\n",
    "dataset.isnull().sum().sum()"
   ]
  },
  {
   "cell_type": "code",
   "execution_count": null,
   "metadata": {},
   "outputs": [],
   "source": [
    "dataset.isnull().sum()"
   ]
  },
  {
   "cell_type": "code",
   "execution_count": null,
   "metadata": {},
   "outputs": [],
   "source": [
    "dataset[dataset[\"당일개인거래비율\"].isna()][\"거래량\"]"
   ]
  },
  {
   "cell_type": "code",
   "execution_count": null,
   "metadata": {},
   "outputs": [],
   "source": [
    "# 결측치 제거\n",
    "dataset.drop(index=dataset[dataset[\"거래량\"] == 0].index, inplace=True)"
   ]
  },
  {
   "cell_type": "code",
   "execution_count": null,
   "metadata": {},
   "outputs": [],
   "source": [
    "dataset.isnull().sum().sum()"
   ]
  },
  {
   "cell_type": "code",
   "execution_count": null,
   "metadata": {},
   "outputs": [],
   "source": [
    "dataset.head()"
   ]
  },
  {
   "cell_type": "code",
   "execution_count": null,
   "metadata": {},
   "outputs": [],
   "source": [
    "# 종속변수와 독립변수 분리\n",
    "y_data = dataset.loc[:,['날짜', '1일 뒤 종가', '2일 뒤 종가', '3일 뒤 종가', '4일 뒤 종가', '5일 뒤 종가', '6일 뒤 종가','7일 뒤 종가', '8일 뒤 종가', '9일 뒤 종가', '10일 뒤 종가']]\n",
    "y_data = y_data.drop_duplicates(\"날짜\").set_index(\"날짜\")\n",
    "\n",
    "X_data = dataset.drop(columns=y_data.columns)"
   ]
  },
  {
   "cell_type": "code",
   "execution_count": null,
   "metadata": {},
   "outputs": [],
   "source": [
    "y_data.head()"
   ]
  },
  {
   "cell_type": "code",
   "execution_count": null,
   "metadata": {},
   "outputs": [],
   "source": [
    "X_data.head()"
   ]
  },
  {
   "cell_type": "code",
   "execution_count": null,
   "metadata": {},
   "outputs": [],
   "source": [
    "print(X_data.shape)\n",
    "print(y_data.shape)"
   ]
  },
  {
   "cell_type": "code",
   "execution_count": null,
   "metadata": {},
   "outputs": [],
   "source": [
    "temp = X_data.groupby(\"날짜\").mean()\n",
    "temp.reset_index(inplace=True)"
   ]
  },
  {
   "cell_type": "code",
   "execution_count": null,
   "metadata": {},
   "outputs": [],
   "source": [
    "cnt = X_data.value_counts(\"날짜\").to_frame().reset_index().rename(columns={0:\"당일공시갯수\"})\n",
    "cnt"
   ]
  },
  {
   "cell_type": "code",
   "execution_count": null,
   "metadata": {},
   "outputs": [],
   "source": [
    "X_data = pd.merge(temp, cnt, how='inner', on=['날짜']).sort_values(\"날짜\", ascending=False).reset_index(drop=True)"
   ]
  },
  {
   "cell_type": "code",
   "execution_count": null,
   "metadata": {},
   "outputs": [],
   "source": [
    "X_data.shape"
   ]
  },
  {
   "cell_type": "code",
   "execution_count": null,
   "metadata": {},
   "outputs": [],
   "source": [
    "# 독립변수 / 종속변수 저장\n",
    "X_data.to_csv(\"../data/preprocessed_data/y_data.csv\", encoding='cp949')\n",
    "y_data.to_csv(\"../data/preprocessed_data/X_data.csv\", encoding='cp949')"
   ]
  },
  {
   "cell_type": "code",
   "execution_count": null,
   "metadata": {},
   "outputs": [],
   "source": [
    "# 데이터셋 저장\n",
    "dataset.to_csv(\"../data/preprocessed_data/data_(main).csv\", encoding='cp949')"
   ]
  },
  {
   "cell_type": "markdown",
   "metadata": {},
   "source": [
    "### 이전 기간에 따른 가중치 적용하기"
   ]
  },
  {
   "cell_type": "code",
   "execution_count": null,
   "metadata": {},
   "outputs": [],
   "source": [
    "X_data"
   ]
  },
  {
   "cell_type": "code",
   "execution_count": null,
   "metadata": {},
   "outputs": [],
   "source": [
    "y_data"
   ]
  },
  {
   "cell_type": "code",
   "execution_count": null,
   "metadata": {},
   "outputs": [],
   "source": [
    "temp_y = y_data.reset_index([\"날짜\"]).copy()\n",
    "temp_y.rename(columns={\"1일 뒤 종가\": \"1일 뒤\",\n",
    "                     \"2일 뒤 종가\": \"2일 뒤\",\n",
    "                     \"3일 뒤 종가\": \"3일 뒤\",\n",
    "                     \"4일 뒤 종가\": \"4일 뒤\",\n",
    "                     \"5일 뒤 종가\": \"5일 뒤\",\n",
    "                     \"6일 뒤 종가\": \"6일 뒤\",\n",
    "                     \"7일 뒤 종가\": \"7일 뒤\",\n",
    "                     \"8일 뒤 종가\": \"8일 뒤\",\n",
    "                     \"9일 뒤 종가\": \"9일 뒤\",\n",
    "                     \"10일 뒤 종가\": \"10일 뒤\"\n",
    "                     }, inplace=True)\n",
    "\n",
    "for i in range(1, 11):\n",
    "    temp_y[f\"{i}일 뒤\"] = temp_y[\"날짜\"].apply(lambda x: x + datetime.timedelta(days=i))\n",
    "temp_y.head(3)"
   ]
  },
  {
   "cell_type": "code",
   "execution_count": null,
   "metadata": {},
   "outputs": [],
   "source": [
    "# 가중치 벡터가 담긴 데이터프레임 생성\n",
    "\n",
    "cols = X_data[\"날짜\"]\n",
    "dy = 30 # 가중치 적용할 날짜 기준\n",
    "\n",
    "def weight_arr(n, cols, dy):\n",
    "    weight = pd.DataFrame(index=temp_y[f\"{n}일 뒤\"], columns=cols)\n",
    "    weight = weight.apply(lambda x: cols, axis=1)\n",
    "    weight.reset_index(inplace=True)\n",
    "    \n",
    "    for i in range(X_data.shape[0]):\n",
    "        weight[i] = (weight[f\"{n}일 뒤\"]-weight[i]).dt.days\n",
    "\n",
    "    weight.loc[:,0:] = weight[(weight.loc[:,0:] > 0) & (weight.loc[:,0:] < dy)]\n",
    "    weight.loc[:,0:] = np.reciprocal(weight.loc[:,0:]).fillna(0)\n",
    "\n",
    "    weight.set_index(f\"{n}일 뒤\", inplace=True)\n",
    "    weight.columns = cols\n",
    "    return weight\n",
    "\n",
    "def weight_func(weight_df, temp_df):\n",
    "    temp_df = temp_df.astype(float).to_numpy()\n",
    "    weight_df = weight_df.astype(float).to_numpy()\n",
    "\n",
    "    weight_df = pd.DataFrame(data=weight_df)\n",
    "    \n",
    "    df = pd.DataFrame(data=np.dot(weight_df, temp_df))\n",
    "    return df"
   ]
  },
  {
   "cell_type": "code",
   "execution_count": null,
   "metadata": {},
   "outputs": [],
   "source": [
    "cut_date = cols.iat[-1,] + datetime.timedelta(days=dy)\n",
    "weight_df = weight_arr(1, cols, dy)\n",
    "#weight_df = weight_df[weight_df.columns[weight_df.columns > cut_date]]\n",
    "weight_df"
   ]
  },
  {
   "cell_type": "code",
   "execution_count": null,
   "metadata": {},
   "outputs": [],
   "source": [
    "temp_df = X_data.copy()\n",
    "#temp_df = temp_df[temp_df[\"날짜\"] > cut_date]\n",
    "temp_df.set_index(\"날짜\", inplace=True)\n",
    "temp_df"
   ]
  },
  {
   "cell_type": "code",
   "execution_count": null,
   "metadata": {},
   "outputs": [],
   "source": [
    "weighted_data = weight_func(weight_df, temp_df).values\n",
    "weighted_data = pd.DataFrame(data=weighted_data, columns=temp_df.columns)\n",
    "weighted_data.set_index(weight_df.index, inplace=True)"
   ]
  },
  {
   "cell_type": "code",
   "execution_count": null,
   "metadata": {},
   "outputs": [],
   "source": [
    "weighted_data = weighted_data[weighted_data.index > cut_date]\n",
    "weighted_data.reset_index(drop=True,inplace=True)"
   ]
  },
  {
   "cell_type": "code",
   "execution_count": null,
   "metadata": {},
   "outputs": [],
   "source": [
    "weighted_data[\"날짜\"] = X_data[\"날짜\"]\n",
    "weighted_data.set_index([\"날짜\"], inplace=True)"
   ]
  },
  {
   "cell_type": "code",
   "execution_count": null,
   "metadata": {},
   "outputs": [],
   "source": [
    "\n",
    "weighted_data.to_csv(\"../data/preprocessed_data/weighted_data.csv\", encoding='cp949')"
   ]
  },
  {
   "cell_type": "code",
   "execution_count": null,
   "metadata": {},
   "outputs": [],
   "source": [
    "y_data = y_data[y_data.index > cut_date]\n",
    "y_data"
   ]
  },
  {
   "cell_type": "code",
   "execution_count": null,
   "metadata": {},
   "outputs": [],
   "source": [
    "y_data.to_csv(\"../data/preprocessed_data/y_data.csv\", encoding='cp949')"
   ]
  }
 ],
 "metadata": {
  "kernelspec": {
   "display_name": "Python 3.10.6 ('crawling')",
   "language": "python",
   "name": "python3"
  },
  "language_info": {
   "codemirror_mode": {
    "name": "ipython",
    "version": 3
   },
   "file_extension": ".py",
   "mimetype": "text/x-python",
   "name": "python",
   "nbconvert_exporter": "python",
   "pygments_lexer": "ipython3",
   "version": "3.10.6"
  },
  "orig_nbformat": 4,
  "vscode": {
   "interpreter": {
    "hash": "10621530bc52bc3dcaea48e2b7ef028942e35d2e6e9c9234a88fefd069caf90f"
   }
  }
 },
 "nbformat": 4,
 "nbformat_minor": 2
}
