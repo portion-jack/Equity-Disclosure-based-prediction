{
 "cells": [
  {
   "cell_type": "code",
   "execution_count": null,
   "metadata": {},
   "outputs": [],
   "source": [
    "# 전처리 동안 사용할 라이브러리 종합\n",
    "import pandas as pd\n",
    "import numpy as np\n",
    "\n",
    "import re\n",
    "import copy\n",
    "import datetime\n",
    "from tqdm import tqdm\n",
    "\n",
    "import seaborn as sns\n",
    "import matplotlib.pyplot as plt\n",
    "%matplotlib inline\n",
    "plt.rcParams['axes.unicode_minus'] = False\n",
    "plt.rcParams['font.family'] = 'AppleGothic'\n",
    "sns.set(font=\"AppleGothic\", \n",
    "        rc={\"axes.unicode_minus\":False},\n",
    "        style='darkgrid')\n",
    "\n",
    "import warnings\n",
    "warnings.filterwarnings('ignore')"
   ]
  },
  {
   "cell_type": "markdown",
   "metadata": {},
   "source": [
    "### 주식 가격데이터 전처리"
   ]
  },
  {
   "cell_type": "code",
   "execution_count": null,
   "metadata": {},
   "outputs": [],
   "source": [
    "# 주가 데이터 로드 및 통합\n",
    "\n",
    "# 주가데이터 파일 통합\n",
    "import glob\n",
    "import os\n",
    "from tqdm import tqdm\n",
    "\n",
    "file_path = glob.glob(\"../data/raw_data/stock_code/*.csv\")\n",
    "\n",
    "stock_price = pd.DataFrame()\n",
    "for f in tqdm(file_path):\n",
    "    code = os.path.basename(f).split(\".\")[0]\n",
    "    df_temp = pd.read_csv(f, encoding='cp949', index_col=0)\n",
    "    df_temp[\"종목코드\"] = code\n",
    "    stock_price = pd.concat([stock_price, df_temp])\n",
    "\n",
    "# 사용할 컬럼 선정\n",
    "use_cols = [\"날짜\",\"시가\",\"고가\",\"저가\",\"종가\",\"전일비\",\"등락률\",\"거래량\",'금액(백만)'\\\n",
    "    , '신용비', \"개인\", \"기관\", \"외인수량\", \"외국계\", \"프로그램\",\"외인비\"]\n",
    "stock_price = stock_price[use_cols]\n",
    "\n",
    "stock_price.head()"
   ]
  },
  {
   "cell_type": "code",
   "execution_count": null,
   "metadata": {},
   "outputs": [],
   "source": [
    "stock_price.shape"
   ]
  },
  {
   "cell_type": "code",
   "execution_count": null,
   "metadata": {},
   "outputs": [],
   "source": [
    "# 불필요한 부호 제거\n",
    "stock_price.loc[:,\"시가\":\"종가\"] = stock_price.loc[:,\"시가\":\"종가\"].apply(lambda x: abs(x))\n",
    "stock_price.loc[:,\"개인\":\"프로그램\"] = stock_price.loc[:,\"개인\":\"프로그램\"].astype(str)\n",
    "stock_price.loc[:, \"개인\":\"프로그램\"] = stock_price.loc[:, \"개인\":\"프로그램\"].applymap(lambda x: int(re.sub(r\"[^0-9]\", \"\", x))\\\n",
    "    if x[0] == '+' else int(re.sub(r\"[^0-9]\", \"\", x)) * -1)\n",
    "\n",
    "# str타입을 datetime타입으로 변경\n",
    "stock_price[\"날짜\"] = stock_price[\"날짜\"].apply(lambda x: datetime.datetime.strptime(str(x), \"%Y%m%d\"))\n",
    "\n",
    "# 종속변수를 위한 컬럼 추가 및 컬럼순서 변경\n",
    "n = 10 # 최대 n일 뒤의 종가를 예측하고자 함.\n",
    "for i in range(1, n+1):\n",
    "    stock_price[f\"{i}일 뒤 종가\"] = stock_price[\"종가\"].shift(i)\n",
    "\n",
    "col1=stock_price.columns[1:-n].to_list()\n",
    "col2=stock_price.columns[-n:].to_list()\n",
    "new_col = stock_price.columns[0:1].to_list() + col2 + col1\n",
    "stock_price=stock_price[new_col]\n",
    "\n",
    "# 쉬프트 이전 제거.\n",
    "stock_price = stock_price[n:]\n",
    "\n",
    "###########################\n",
    "# 종속변수 분류 정의\n",
    "\n",
    "# 종가기준 p% 이상이면 2\n",
    "# 종가기준 0% 이상이면 1\n",
    "# 종가기준 마이너스면 0\n",
    "profit = 0.03\n",
    "for i in range(1, n+1):\n",
    "    stock_price[f\"{i}일 뒤 종가\"] = stock_price.apply(lambda x: 2 \\\n",
    "        if ((x[f\"{i}일 뒤 종가\"]-x[\"종가\"])/x[\"종가\"] > profit ) else 1 \\\n",
    "            if x[f\"{i}일 뒤 종가\"] > x[\"종가\"] else 0, axis=1)\n",
    "\n",
    "stock_price.reset_index(drop=True, inplace=True)\n",
    "stock_price.head()"
   ]
  },
  {
   "cell_type": "code",
   "execution_count": null,
   "metadata": {},
   "outputs": [],
   "source": [
    "stock_price.shape"
   ]
  },
  {
   "cell_type": "code",
   "execution_count": null,
   "metadata": {},
   "outputs": [],
   "source": [
    "file_name = \"../data/preprocessed_data/samsung_price.csv\"\n",
    "stock_price.to_csv(file_name, encoding='cp949')"
   ]
  }
 ],
 "metadata": {
  "kernelspec": {
   "display_name": "Python 3.9.6 64-bit",
   "language": "python",
   "name": "python3"
  },
  "language_info": {
   "codemirror_mode": {
    "name": "ipython",
    "version": 3
   },
   "file_extension": ".py",
   "mimetype": "text/x-python",
   "name": "python",
   "nbconvert_exporter": "python",
   "pygments_lexer": "ipython3",
   "version": "3.9.6"
  },
  "orig_nbformat": 4,
  "vscode": {
   "interpreter": {
    "hash": "31f2aee4e71d21fbe5cf8b01ff0e069b9275f58929596ceb00d14d90e3e16cd6"
   }
  }
 },
 "nbformat": 4,
 "nbformat_minor": 2
}
