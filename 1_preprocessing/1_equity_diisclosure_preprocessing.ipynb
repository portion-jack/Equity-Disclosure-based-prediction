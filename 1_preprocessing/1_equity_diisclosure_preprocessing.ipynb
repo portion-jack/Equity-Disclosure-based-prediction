{
 "cells": [
  {
   "cell_type": "code",
   "execution_count": null,
   "metadata": {},
   "outputs": [],
   "source": [
    "# 전처리 동안 사용할 라이브러리 종합\n",
    "import pandas as pd\n",
    "import numpy as np\n",
    "\n",
    "import re\n",
    "import copy\n",
    "import datetime\n",
    "from tqdm import tqdm\n",
    "\n",
    "import seaborn as sns\n",
    "import matplotlib.pyplot as plt\n",
    "%matplotlib inline\n",
    "plt.rcParams['axes.unicode_minus'] = False\n",
    "plt.rcParams['font.family'] = 'Malgun Gothic'\n",
    "sns.set(font=\"Malgun Gothic\", \n",
    "        rc={\"axes.unicode_minus\":False},\n",
    "        style='darkgrid')\n",
    "\n",
    "import warnings\n",
    "warnings.filterwarnings('ignore')"
   ]
  },
  {
   "cell_type": "markdown",
   "metadata": {},
   "source": [
    "## 전처리"
   ]
  },
  {
   "cell_type": "markdown",
   "metadata": {},
   "source": [
    "### 공시자료 전처리"
   ]
  },
  {
   "cell_type": "code",
   "execution_count": null,
   "metadata": {},
   "outputs": [],
   "source": [
    "company_info = pd.read_csv(\"../data/raw_data/all_ent.csv\", encoding='cp949')\n",
    "company_info = company_info[company_info[\"회사명\"] == \"삼성전자\"]\n",
    "company_info.reset_index(drop=True, inplace=True)"
   ]
  },
  {
   "cell_type": "code",
   "execution_count": null,
   "metadata": {},
   "outputs": [],
   "source": [
    "company_info.columns"
   ]
  },
  {
   "cell_type": "code",
   "execution_count": null,
   "metadata": {},
   "outputs": [],
   "source": [
    "use_cols = [\n",
    "    '보고일자',\n",
    "    '변동일',\n",
    "    '회사명',\n",
    "    '보고자 명칭',\n",
    "    '종목코드',\n",
    "    '보고구분',\n",
    "    '보고자 구분',\n",
    "    '임원',\n",
    "    '직위명',\n",
    "    '주요주주',\n",
    "    '변동사유',\n",
    "    '특정증권등의 종류',\n",
    "    '변동전',\n",
    "    '증감',\n",
    "    '변동후',\n",
    "    '발행주식 총수']\n",
    "company_info = company_info[use_cols]"
   ]
  },
  {
   "cell_type": "code",
   "execution_count": null,
   "metadata": {},
   "outputs": [],
   "source": [
    "company_info.head()"
   ]
  },
  {
   "cell_type": "code",
   "execution_count": null,
   "metadata": {},
   "outputs": [],
   "source": [
    "# 종목코드 정리\n",
    "company_info[\"종목코드\"] = company_info[\"종목코드\"].apply(lambda x: str(x).zfill(6))\n",
    "\n",
    "# 변동일 양식 정리\n",
    "company_info[\"변동일\"] = company_info[\"변동일\"].apply(lambda x: re.sub(r\"[^0-9]\",\"\",x))\n",
    "\n",
    "# str을 datetime 형식으로 변경\n",
    "company_info.loc[:, \"보고일자\":\"변동일\"] = company_info.loc[:, \"보고일자\":\"변동일\"].applymap(lambda x: datetime.datetime.strptime(str(x),\"%Y%m%d\"))\n",
    "\n",
    "# 일단은 당장 안쓸꺼므로 제거. 나중에 쓸수도 있음.\n",
    "company_info.drop(columns=\"변동일\", inplace=True)\n",
    "\n",
    "# 보고자명칭 가운데 공백 제거\n",
    "company_info[\"보고자 명칭\"] = company_info[\"보고자 명칭\"].apply(lambda x: x.replace(\" \",\"\"))\n",
    "\n",
    "# 각 공시를 그룹화하기 위해 인덱스 생성\n",
    "company_info[\"인덱스\"] = company_info[[\"보고일자\",\"보고자 명칭\",\"보고구분\"]].apply(lambda x: '_'.join(x.values.astype(str)), axis=1)\n",
    "company_info.drop(columns=\"보고자 명칭\", inplace=True)\n",
    "\n",
    "# 데이터프레임 컬럼순서 변경\n",
    "col0=company_info.columns[-1:].to_list()\n",
    "col1=company_info.columns[:-1].to_list()\n",
    "new_col=col0+col1\n",
    "company_info = company_info[new_col]\n",
    "new_col\n",
    "\n",
    "# 인덱스별로 정렬\n",
    "company_info.sort_values(\"인덱스\", ascending=False, ignore_index=True, inplace=True)\n",
    "\n",
    "# 인덱스별로 groupby하면서 sum\n",
    "temp = company_info[[\"인덱스\",\"변동전\",\"증감\",\"변동후\"]].groupby(\"인덱스\").sum(\"증감\")\n",
    "temp.reset_index(inplace=True)\n",
    "temp.sort_values(\"인덱스\", ascending=False, ignore_index=True, inplace=True)\n",
    "\n",
    "company_info.drop_duplicates(subset=\"인덱스\", ignore_index=True, inplace=True)\n",
    "company_info.drop(columns=[\"변동전\", \"증감\", \"변동후\"], inplace=True)\n",
    "company_info = pd.merge(company_info, temp, how='left', left_on='인덱스', right_on='인덱스')\n",
    "company_info.set_index(\"인덱스\", inplace=True)\n",
    "\n",
    "company_info.head()"
   ]
  },
  {
   "cell_type": "code",
   "execution_count": null,
   "metadata": {},
   "outputs": [],
   "source": [
    "company_info.info()"
   ]
  },
  {
   "cell_type": "code",
   "execution_count": null,
   "metadata": {},
   "outputs": [],
   "source": [
    "# 저장.\n",
    "file_name = \"../data/preprocessed_data/samsung.csv\"\n",
    "company_info.to_csv(file_name, encoding='cp949')"
   ]
  },
  {
   "cell_type": "code",
   "execution_count": null,
   "metadata": {},
   "outputs": [],
   "source": []
  }
 ],
 "metadata": {
  "kernelspec": {
   "display_name": "Python 3.10.6 ('crawling')",
   "language": "python",
   "name": "python3"
  },
  "language_info": {
   "codemirror_mode": {
    "name": "ipython",
    "version": 3
   },
   "file_extension": ".py",
   "mimetype": "text/x-python",
   "name": "python",
   "nbconvert_exporter": "python",
   "pygments_lexer": "ipython3",
   "version": "3.10.6"
  },
  "orig_nbformat": 4,
  "vscode": {
   "interpreter": {
    "hash": "10621530bc52bc3dcaea48e2b7ef028942e35d2e6e9c9234a88fefd069caf90f"
   }
  }
 },
 "nbformat": 4,
 "nbformat_minor": 2
}
